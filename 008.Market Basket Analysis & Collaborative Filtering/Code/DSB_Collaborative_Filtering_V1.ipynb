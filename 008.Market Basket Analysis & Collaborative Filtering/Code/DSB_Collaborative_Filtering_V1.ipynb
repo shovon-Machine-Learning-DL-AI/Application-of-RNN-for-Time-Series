{
 "cells": [
  {
   "cell_type": "code",
   "execution_count": 1,
   "metadata": {},
   "outputs": [],
   "source": [
    "import os\n",
    "os.chdir('/Users/a568594/Desktop/CF')\n",
    "import pandas as pd\n",
    "import numpy as np\n",
    "import matplotlib.pyplot as plt\n",
    "%matplotlib inline"
   ]
  },
  {
   "cell_type": "markdown",
   "metadata": {},
   "source": [
    "## Read Ratings data "
   ]
  },
  {
   "cell_type": "code",
   "execution_count": 2,
   "metadata": {},
   "outputs": [],
   "source": [
    "ratings = pd.read_csv('ratings.csv')"
   ]
  },
  {
   "cell_type": "code",
   "execution_count": 3,
   "metadata": {},
   "outputs": [
    {
     "data": {
      "text/html": [
       "<div>\n",
       "<style scoped>\n",
       "    .dataframe tbody tr th:only-of-type {\n",
       "        vertical-align: middle;\n",
       "    }\n",
       "\n",
       "    .dataframe tbody tr th {\n",
       "        vertical-align: top;\n",
       "    }\n",
       "\n",
       "    .dataframe thead th {\n",
       "        text-align: right;\n",
       "    }\n",
       "</style>\n",
       "<table border=\"1\" class=\"dataframe\">\n",
       "  <thead>\n",
       "    <tr style=\"text-align: right;\">\n",
       "      <th></th>\n",
       "      <th>userId</th>\n",
       "      <th>movieId</th>\n",
       "      <th>rating</th>\n",
       "      <th>timestamp</th>\n",
       "    </tr>\n",
       "  </thead>\n",
       "  <tbody>\n",
       "    <tr>\n",
       "      <th>0</th>\n",
       "      <td>1</td>\n",
       "      <td>31</td>\n",
       "      <td>2.5</td>\n",
       "      <td>1260759144</td>\n",
       "    </tr>\n",
       "    <tr>\n",
       "      <th>1</th>\n",
       "      <td>1</td>\n",
       "      <td>1029</td>\n",
       "      <td>3.0</td>\n",
       "      <td>1260759179</td>\n",
       "    </tr>\n",
       "    <tr>\n",
       "      <th>2</th>\n",
       "      <td>1</td>\n",
       "      <td>1061</td>\n",
       "      <td>3.0</td>\n",
       "      <td>1260759182</td>\n",
       "    </tr>\n",
       "    <tr>\n",
       "      <th>3</th>\n",
       "      <td>1</td>\n",
       "      <td>1129</td>\n",
       "      <td>2.0</td>\n",
       "      <td>1260759185</td>\n",
       "    </tr>\n",
       "    <tr>\n",
       "      <th>4</th>\n",
       "      <td>1</td>\n",
       "      <td>1172</td>\n",
       "      <td>4.0</td>\n",
       "      <td>1260759205</td>\n",
       "    </tr>\n",
       "  </tbody>\n",
       "</table>\n",
       "</div>"
      ],
      "text/plain": [
       "   userId  movieId  rating   timestamp\n",
       "0       1       31     2.5  1260759144\n",
       "1       1     1029     3.0  1260759179\n",
       "2       1     1061     3.0  1260759182\n",
       "3       1     1129     2.0  1260759185\n",
       "4       1     1172     4.0  1260759205"
      ]
     },
     "execution_count": 3,
     "metadata": {},
     "output_type": "execute_result"
    }
   ],
   "source": [
    "ratings.head()"
   ]
  },
  {
   "cell_type": "markdown",
   "metadata": {},
   "source": [
    "## Read Movies data "
   ]
  },
  {
   "cell_type": "code",
   "execution_count": 4,
   "metadata": {},
   "outputs": [
    {
     "data": {
      "text/html": [
       "<div>\n",
       "<style scoped>\n",
       "    .dataframe tbody tr th:only-of-type {\n",
       "        vertical-align: middle;\n",
       "    }\n",
       "\n",
       "    .dataframe tbody tr th {\n",
       "        vertical-align: top;\n",
       "    }\n",
       "\n",
       "    .dataframe thead th {\n",
       "        text-align: right;\n",
       "    }\n",
       "</style>\n",
       "<table border=\"1\" class=\"dataframe\">\n",
       "  <thead>\n",
       "    <tr style=\"text-align: right;\">\n",
       "      <th></th>\n",
       "      <th>movieId</th>\n",
       "      <th>title</th>\n",
       "      <th>genres</th>\n",
       "    </tr>\n",
       "  </thead>\n",
       "  <tbody>\n",
       "    <tr>\n",
       "      <th>0</th>\n",
       "      <td>1</td>\n",
       "      <td>Toy Story (1995)</td>\n",
       "      <td>Adventure|Animation|Children|Comedy|Fantasy</td>\n",
       "    </tr>\n",
       "    <tr>\n",
       "      <th>1</th>\n",
       "      <td>2</td>\n",
       "      <td>Jumanji (1995)</td>\n",
       "      <td>Adventure|Children|Fantasy</td>\n",
       "    </tr>\n",
       "    <tr>\n",
       "      <th>2</th>\n",
       "      <td>3</td>\n",
       "      <td>Grumpier Old Men (1995)</td>\n",
       "      <td>Comedy|Romance</td>\n",
       "    </tr>\n",
       "    <tr>\n",
       "      <th>3</th>\n",
       "      <td>4</td>\n",
       "      <td>Waiting to Exhale (1995)</td>\n",
       "      <td>Comedy|Drama|Romance</td>\n",
       "    </tr>\n",
       "    <tr>\n",
       "      <th>4</th>\n",
       "      <td>5</td>\n",
       "      <td>Father of the Bride Part II (1995)</td>\n",
       "      <td>Comedy</td>\n",
       "    </tr>\n",
       "  </tbody>\n",
       "</table>\n",
       "</div>"
      ],
      "text/plain": [
       "   movieId                               title  \\\n",
       "0        1                    Toy Story (1995)   \n",
       "1        2                      Jumanji (1995)   \n",
       "2        3             Grumpier Old Men (1995)   \n",
       "3        4            Waiting to Exhale (1995)   \n",
       "4        5  Father of the Bride Part II (1995)   \n",
       "\n",
       "                                        genres  \n",
       "0  Adventure|Animation|Children|Comedy|Fantasy  \n",
       "1                   Adventure|Children|Fantasy  \n",
       "2                               Comedy|Romance  \n",
       "3                         Comedy|Drama|Romance  \n",
       "4                                       Comedy  "
      ]
     },
     "execution_count": 4,
     "metadata": {},
     "output_type": "execute_result"
    }
   ],
   "source": [
    "movies = pd.read_csv('movies.csv')\n",
    "movies.head()"
   ]
  },
  {
   "cell_type": "markdown",
   "metadata": {},
   "source": [
    "## Combine the 2 datasets "
   ]
  },
  {
   "cell_type": "code",
   "execution_count": 5,
   "metadata": {},
   "outputs": [],
   "source": [
    "ratings = pd.merge(ratings[['userId','movieId','rating']],movies[['movieId','title','genres']],\n",
    "                  how ='left',left_on='movieId',right_on='movieId')"
   ]
  },
  {
   "cell_type": "markdown",
   "metadata": {},
   "source": [
    "## Create user-movie rating matrix "
   ]
  },
  {
   "cell_type": "code",
   "execution_count": 6,
   "metadata": {},
   "outputs": [],
   "source": [
    "rp = ratings.pivot_table(columns =['movieId'], index=['userId'], values='rating')\n",
    "rp.fillna(0, inplace=True)"
   ]
  },
  {
   "cell_type": "code",
   "execution_count": 7,
   "metadata": {},
   "outputs": [],
   "source": [
    "# Converting pandas dataframe to numpy for faster execution in loops etc.\n",
    "rp_mat = rp.as_matrix()"
   ]
  },
  {
   "cell_type": "code",
   "execution_count": 8,
   "metadata": {},
   "outputs": [
    {
     "data": {
      "text/plain": [
       "array([[0., 0., 0., ..., 0., 0., 0.],\n",
       "       [0., 0., 0., ..., 0., 0., 0.],\n",
       "       [0., 0., 0., ..., 0., 0., 0.],\n",
       "       ...,\n",
       "       [0., 0., 0., ..., 0., 0., 0.],\n",
       "       [4., 0., 0., ..., 0., 0., 0.],\n",
       "       [5., 0., 0., ..., 0., 0., 0.]])"
      ]
     },
     "execution_count": 8,
     "metadata": {},
     "output_type": "execute_result"
    }
   ],
   "source": [
    "rp_mat"
   ]
  },
  {
   "cell_type": "code",
   "execution_count": 9,
   "metadata": {},
   "outputs": [],
   "source": [
    "from scipy.spatial.distance import cosine"
   ]
  },
  {
   "cell_type": "markdown",
   "metadata": {},
   "source": [
    "## Calculate the Cosine Distance "
   ]
  },
  {
   "cell_type": "code",
   "execution_count": 10,
   "metadata": {},
   "outputs": [
    {
     "name": "stdout",
     "output_type": "stream",
     "text": [
      "Cosine similarity between A and B is 0.8216\n"
     ]
    }
   ],
   "source": [
    "a= np.asarray( [2, 1, 0, 2, 0, 1, 1, 1])\n",
    "b = np.asarray( [2, 1, 1, 1, 1, 0, 1, 1])\n",
    "print (\"Cosine similarity between A and B is\",round(1-cosine(a,b),4))"
   ]
  },
  {
   "cell_type": "markdown",
   "metadata": {},
   "source": [
    "## Creating a User Similarity Matrix "
   ]
  },
  {
   "cell_type": "code",
   "execution_count": 11,
   "metadata": {},
   "outputs": [],
   "source": [
    "m, n = rp.shape\n",
    "mat_users = np.zeros((m, m))\n",
    "for i in range(m):\n",
    "    for j in range(m):\n",
    "        if i != j:\n",
    "            mat_users[i][j] = (1- cosine(rp_mat[i,:], rp_mat[j,:]))\n",
    "        else:\n",
    "            mat_users[i][j] = 0.\n",
    "            \n",
    "pd_users = pd.DataFrame(mat_users,index =rp.index ,columns= rp.index )"
   ]
  },
  {
   "cell_type": "code",
   "execution_count": 12,
   "metadata": {},
   "outputs": [
    {
     "data": {
      "text/html": [
       "<div>\n",
       "<style scoped>\n",
       "    .dataframe tbody tr th:only-of-type {\n",
       "        vertical-align: middle;\n",
       "    }\n",
       "\n",
       "    .dataframe tbody tr th {\n",
       "        vertical-align: top;\n",
       "    }\n",
       "\n",
       "    .dataframe thead th {\n",
       "        text-align: right;\n",
       "    }\n",
       "</style>\n",
       "<table border=\"1\" class=\"dataframe\">\n",
       "  <thead>\n",
       "    <tr style=\"text-align: right;\">\n",
       "      <th>userId</th>\n",
       "      <th>1</th>\n",
       "      <th>2</th>\n",
       "      <th>3</th>\n",
       "      <th>4</th>\n",
       "      <th>5</th>\n",
       "      <th>6</th>\n",
       "      <th>7</th>\n",
       "      <th>8</th>\n",
       "      <th>9</th>\n",
       "      <th>10</th>\n",
       "      <th>...</th>\n",
       "      <th>662</th>\n",
       "      <th>663</th>\n",
       "      <th>664</th>\n",
       "      <th>665</th>\n",
       "      <th>666</th>\n",
       "      <th>667</th>\n",
       "      <th>668</th>\n",
       "      <th>669</th>\n",
       "      <th>670</th>\n",
       "      <th>671</th>\n",
       "    </tr>\n",
       "    <tr>\n",
       "      <th>userId</th>\n",
       "      <th></th>\n",
       "      <th></th>\n",
       "      <th></th>\n",
       "      <th></th>\n",
       "      <th></th>\n",
       "      <th></th>\n",
       "      <th></th>\n",
       "      <th></th>\n",
       "      <th></th>\n",
       "      <th></th>\n",
       "      <th></th>\n",
       "      <th></th>\n",
       "      <th></th>\n",
       "      <th></th>\n",
       "      <th></th>\n",
       "      <th></th>\n",
       "      <th></th>\n",
       "      <th></th>\n",
       "      <th></th>\n",
       "      <th></th>\n",
       "      <th></th>\n",
       "    </tr>\n",
       "  </thead>\n",
       "  <tbody>\n",
       "    <tr>\n",
       "      <th>1</th>\n",
       "      <td>0.000000</td>\n",
       "      <td>0.000000</td>\n",
       "      <td>0.000000</td>\n",
       "      <td>0.074482</td>\n",
       "      <td>0.016818</td>\n",
       "      <td>0.000000</td>\n",
       "      <td>0.083884</td>\n",
       "      <td>0.000000</td>\n",
       "      <td>0.012843</td>\n",
       "      <td>0.000000</td>\n",
       "      <td>...</td>\n",
       "      <td>0.000000</td>\n",
       "      <td>0.000000</td>\n",
       "      <td>0.014474</td>\n",
       "      <td>0.043719</td>\n",
       "      <td>0.000000</td>\n",
       "      <td>0.000000</td>\n",
       "      <td>0.000000</td>\n",
       "      <td>0.062917</td>\n",
       "      <td>0.000000</td>\n",
       "      <td>0.017466</td>\n",
       "    </tr>\n",
       "    <tr>\n",
       "      <th>2</th>\n",
       "      <td>0.000000</td>\n",
       "      <td>0.000000</td>\n",
       "      <td>0.124295</td>\n",
       "      <td>0.118821</td>\n",
       "      <td>0.103646</td>\n",
       "      <td>0.000000</td>\n",
       "      <td>0.212985</td>\n",
       "      <td>0.113190</td>\n",
       "      <td>0.113333</td>\n",
       "      <td>0.043213</td>\n",
       "      <td>...</td>\n",
       "      <td>0.477306</td>\n",
       "      <td>0.063202</td>\n",
       "      <td>0.077745</td>\n",
       "      <td>0.164162</td>\n",
       "      <td>0.466281</td>\n",
       "      <td>0.425462</td>\n",
       "      <td>0.084646</td>\n",
       "      <td>0.024140</td>\n",
       "      <td>0.170595</td>\n",
       "      <td>0.113175</td>\n",
       "    </tr>\n",
       "    <tr>\n",
       "      <th>3</th>\n",
       "      <td>0.000000</td>\n",
       "      <td>0.124295</td>\n",
       "      <td>0.000000</td>\n",
       "      <td>0.081640</td>\n",
       "      <td>0.151531</td>\n",
       "      <td>0.060691</td>\n",
       "      <td>0.154714</td>\n",
       "      <td>0.249781</td>\n",
       "      <td>0.134475</td>\n",
       "      <td>0.114672</td>\n",
       "      <td>...</td>\n",
       "      <td>0.161205</td>\n",
       "      <td>0.064198</td>\n",
       "      <td>0.176134</td>\n",
       "      <td>0.158357</td>\n",
       "      <td>0.177098</td>\n",
       "      <td>0.124562</td>\n",
       "      <td>0.124911</td>\n",
       "      <td>0.080984</td>\n",
       "      <td>0.136606</td>\n",
       "      <td>0.170193</td>\n",
       "    </tr>\n",
       "    <tr>\n",
       "      <th>4</th>\n",
       "      <td>0.074482</td>\n",
       "      <td>0.118821</td>\n",
       "      <td>0.081640</td>\n",
       "      <td>0.000000</td>\n",
       "      <td>0.130649</td>\n",
       "      <td>0.079648</td>\n",
       "      <td>0.319745</td>\n",
       "      <td>0.191013</td>\n",
       "      <td>0.030417</td>\n",
       "      <td>0.137186</td>\n",
       "      <td>...</td>\n",
       "      <td>0.114319</td>\n",
       "      <td>0.047228</td>\n",
       "      <td>0.136579</td>\n",
       "      <td>0.254030</td>\n",
       "      <td>0.121905</td>\n",
       "      <td>0.088735</td>\n",
       "      <td>0.068483</td>\n",
       "      <td>0.104309</td>\n",
       "      <td>0.054512</td>\n",
       "      <td>0.211609</td>\n",
       "    </tr>\n",
       "    <tr>\n",
       "      <th>5</th>\n",
       "      <td>0.016818</td>\n",
       "      <td>0.103646</td>\n",
       "      <td>0.151531</td>\n",
       "      <td>0.130649</td>\n",
       "      <td>0.000000</td>\n",
       "      <td>0.063796</td>\n",
       "      <td>0.095888</td>\n",
       "      <td>0.165712</td>\n",
       "      <td>0.086616</td>\n",
       "      <td>0.032370</td>\n",
       "      <td>...</td>\n",
       "      <td>0.191029</td>\n",
       "      <td>0.021142</td>\n",
       "      <td>0.146173</td>\n",
       "      <td>0.224245</td>\n",
       "      <td>0.139721</td>\n",
       "      <td>0.058252</td>\n",
       "      <td>0.042926</td>\n",
       "      <td>0.038358</td>\n",
       "      <td>0.062642</td>\n",
       "      <td>0.225086</td>\n",
       "    </tr>\n",
       "  </tbody>\n",
       "</table>\n",
       "<p>5 rows × 671 columns</p>\n",
       "</div>"
      ],
      "text/plain": [
       "userId       1         2         3         4         5         6         7    \\\n",
       "userId                                                                         \n",
       "1       0.000000  0.000000  0.000000  0.074482  0.016818  0.000000  0.083884   \n",
       "2       0.000000  0.000000  0.124295  0.118821  0.103646  0.000000  0.212985   \n",
       "3       0.000000  0.124295  0.000000  0.081640  0.151531  0.060691  0.154714   \n",
       "4       0.074482  0.118821  0.081640  0.000000  0.130649  0.079648  0.319745   \n",
       "5       0.016818  0.103646  0.151531  0.130649  0.000000  0.063796  0.095888   \n",
       "\n",
       "userId       8         9         10     ...          662       663       664  \\\n",
       "userId                                  ...                                    \n",
       "1       0.000000  0.012843  0.000000    ...     0.000000  0.000000  0.014474   \n",
       "2       0.113190  0.113333  0.043213    ...     0.477306  0.063202  0.077745   \n",
       "3       0.249781  0.134475  0.114672    ...     0.161205  0.064198  0.176134   \n",
       "4       0.191013  0.030417  0.137186    ...     0.114319  0.047228  0.136579   \n",
       "5       0.165712  0.086616  0.032370    ...     0.191029  0.021142  0.146173   \n",
       "\n",
       "userId       665       666       667       668       669       670       671  \n",
       "userId                                                                        \n",
       "1       0.043719  0.000000  0.000000  0.000000  0.062917  0.000000  0.017466  \n",
       "2       0.164162  0.466281  0.425462  0.084646  0.024140  0.170595  0.113175  \n",
       "3       0.158357  0.177098  0.124562  0.124911  0.080984  0.136606  0.170193  \n",
       "4       0.254030  0.121905  0.088735  0.068483  0.104309  0.054512  0.211609  \n",
       "5       0.224245  0.139721  0.058252  0.042926  0.038358  0.062642  0.225086  \n",
       "\n",
       "[5 rows x 671 columns]"
      ]
     },
     "execution_count": 12,
     "metadata": {},
     "output_type": "execute_result"
    }
   ],
   "source": [
    "pd_users.head()"
   ]
  },
  {
   "cell_type": "markdown",
   "metadata": {},
   "source": [
    "## Finding Similar Users "
   ]
  },
  {
   "cell_type": "code",
   "execution_count": 13,
   "metadata": {},
   "outputs": [
    {
     "name": "stdout",
     "output_type": "stream",
     "text": [
      "Similar Users as User: 2\n",
      "           score\n",
      "userId          \n",
      "338     0.581528\n",
      "369     0.580742\n",
      "151     0.573097\n",
      "400     0.571252\n",
      "385     0.565113\n",
      "161     0.558074\n",
      "649     0.551430\n",
      "279     0.547875\n",
      "144     0.538397\n",
      "590     0.537934\n"
     ]
    }
   ],
   "source": [
    "def topn_simusers(uid=16,n=5):\n",
    "    users = pd_users.loc[uid,:].sort_values(ascending=False)\n",
    "    topn_users = users.iloc[:n,]\n",
    "    topn_users = topn_users.rename('score')\n",
    "    print('Similar Users as User:',uid)\n",
    "    return pd.DataFrame(topn_users)\n",
    "print (topn_simusers(uid=2,n=10))"
   ]
  },
  {
   "cell_type": "markdown",
   "metadata": {},
   "source": [
    "## Creating a Movie Similarity Matrix "
   ]
  },
  {
   "cell_type": "code",
   "execution_count": 14,
   "metadata": {},
   "outputs": [
    {
     "name": "stdout",
     "output_type": "stream",
     "text": [
      "--- 3626.218812942505 seconds ---\n"
     ]
    }
   ],
   "source": [
    "import time\n",
    "start_time = time.time()\n",
    "mat_movies = np.zeros((n, n))\n",
    "\n",
    "for i in range(n):\n",
    "    for j in range(n):\n",
    "        if i!=j:\n",
    "            mat_movies[i,j] = (1- cosine(rp_mat[:,i], rp_mat[:,j]))\n",
    "        else:\n",
    "            mat_movies[i,j] = 0.\n",
    "print(\"--- %s seconds ---\" % (time.time() - start_time))"
   ]
  },
  {
   "cell_type": "code",
   "execution_count": 15,
   "metadata": {},
   "outputs": [],
   "source": [
    "pd_movies = pd.DataFrame(mat_movies,index = rp.columns,columns = rp.columns)"
   ]
  },
  {
   "cell_type": "code",
   "execution_count": 16,
   "metadata": {},
   "outputs": [
    {
     "data": {
      "text/html": [
       "<div>\n",
       "<style scoped>\n",
       "    .dataframe tbody tr th:only-of-type {\n",
       "        vertical-align: middle;\n",
       "    }\n",
       "\n",
       "    .dataframe tbody tr th {\n",
       "        vertical-align: top;\n",
       "    }\n",
       "\n",
       "    .dataframe thead th {\n",
       "        text-align: right;\n",
       "    }\n",
       "</style>\n",
       "<table border=\"1\" class=\"dataframe\">\n",
       "  <thead>\n",
       "    <tr style=\"text-align: right;\">\n",
       "      <th>movieId</th>\n",
       "      <th>1</th>\n",
       "      <th>2</th>\n",
       "      <th>3</th>\n",
       "      <th>4</th>\n",
       "      <th>5</th>\n",
       "      <th>6</th>\n",
       "      <th>7</th>\n",
       "      <th>8</th>\n",
       "      <th>9</th>\n",
       "      <th>10</th>\n",
       "      <th>...</th>\n",
       "      <th>161084</th>\n",
       "      <th>161155</th>\n",
       "      <th>161594</th>\n",
       "      <th>161830</th>\n",
       "      <th>161918</th>\n",
       "      <th>161944</th>\n",
       "      <th>162376</th>\n",
       "      <th>162542</th>\n",
       "      <th>162672</th>\n",
       "      <th>163949</th>\n",
       "    </tr>\n",
       "    <tr>\n",
       "      <th>movieId</th>\n",
       "      <th></th>\n",
       "      <th></th>\n",
       "      <th></th>\n",
       "      <th></th>\n",
       "      <th></th>\n",
       "      <th></th>\n",
       "      <th></th>\n",
       "      <th></th>\n",
       "      <th></th>\n",
       "      <th></th>\n",
       "      <th></th>\n",
       "      <th></th>\n",
       "      <th></th>\n",
       "      <th></th>\n",
       "      <th></th>\n",
       "      <th></th>\n",
       "      <th></th>\n",
       "      <th></th>\n",
       "      <th></th>\n",
       "      <th></th>\n",
       "      <th></th>\n",
       "    </tr>\n",
       "  </thead>\n",
       "  <tbody>\n",
       "    <tr>\n",
       "      <th>1</th>\n",
       "      <td>0.000000</td>\n",
       "      <td>0.394511</td>\n",
       "      <td>0.306516</td>\n",
       "      <td>0.133614</td>\n",
       "      <td>0.245102</td>\n",
       "      <td>0.377086</td>\n",
       "      <td>0.278629</td>\n",
       "      <td>0.063031</td>\n",
       "      <td>0.117499</td>\n",
       "      <td>0.310689</td>\n",
       "      <td>...</td>\n",
       "      <td>0.055829</td>\n",
       "      <td>0.031902</td>\n",
       "      <td>0.079755</td>\n",
       "      <td>0.079755</td>\n",
       "      <td>0.079755</td>\n",
       "      <td>0.079755</td>\n",
       "      <td>0.079755</td>\n",
       "      <td>0.0</td>\n",
       "      <td>0.0</td>\n",
       "      <td>0.055829</td>\n",
       "    </tr>\n",
       "    <tr>\n",
       "      <th>2</th>\n",
       "      <td>0.394511</td>\n",
       "      <td>0.000000</td>\n",
       "      <td>0.217492</td>\n",
       "      <td>0.164651</td>\n",
       "      <td>0.278476</td>\n",
       "      <td>0.222003</td>\n",
       "      <td>0.207299</td>\n",
       "      <td>0.223524</td>\n",
       "      <td>0.113669</td>\n",
       "      <td>0.418124</td>\n",
       "      <td>...</td>\n",
       "      <td>0.000000</td>\n",
       "      <td>0.055038</td>\n",
       "      <td>0.068797</td>\n",
       "      <td>0.082557</td>\n",
       "      <td>0.082557</td>\n",
       "      <td>0.137594</td>\n",
       "      <td>0.068797</td>\n",
       "      <td>0.0</td>\n",
       "      <td>0.0</td>\n",
       "      <td>0.000000</td>\n",
       "    </tr>\n",
       "    <tr>\n",
       "      <th>3</th>\n",
       "      <td>0.306516</td>\n",
       "      <td>0.217492</td>\n",
       "      <td>0.000000</td>\n",
       "      <td>0.177012</td>\n",
       "      <td>0.370732</td>\n",
       "      <td>0.247499</td>\n",
       "      <td>0.435648</td>\n",
       "      <td>0.127574</td>\n",
       "      <td>0.306717</td>\n",
       "      <td>0.191255</td>\n",
       "      <td>...</td>\n",
       "      <td>0.000000</td>\n",
       "      <td>0.000000</td>\n",
       "      <td>0.000000</td>\n",
       "      <td>0.116226</td>\n",
       "      <td>0.116226</td>\n",
       "      <td>0.000000</td>\n",
       "      <td>0.000000</td>\n",
       "      <td>0.0</td>\n",
       "      <td>0.0</td>\n",
       "      <td>0.000000</td>\n",
       "    </tr>\n",
       "    <tr>\n",
       "      <th>4</th>\n",
       "      <td>0.133614</td>\n",
       "      <td>0.164651</td>\n",
       "      <td>0.177012</td>\n",
       "      <td>0.000000</td>\n",
       "      <td>0.179556</td>\n",
       "      <td>0.072518</td>\n",
       "      <td>0.184626</td>\n",
       "      <td>0.501513</td>\n",
       "      <td>0.254630</td>\n",
       "      <td>0.111447</td>\n",
       "      <td>...</td>\n",
       "      <td>0.000000</td>\n",
       "      <td>0.000000</td>\n",
       "      <td>0.000000</td>\n",
       "      <td>0.000000</td>\n",
       "      <td>0.000000</td>\n",
       "      <td>0.000000</td>\n",
       "      <td>0.000000</td>\n",
       "      <td>0.0</td>\n",
       "      <td>0.0</td>\n",
       "      <td>0.000000</td>\n",
       "    </tr>\n",
       "    <tr>\n",
       "      <th>5</th>\n",
       "      <td>0.245102</td>\n",
       "      <td>0.278476</td>\n",
       "      <td>0.370732</td>\n",
       "      <td>0.179556</td>\n",
       "      <td>0.000000</td>\n",
       "      <td>0.272645</td>\n",
       "      <td>0.388476</td>\n",
       "      <td>0.194113</td>\n",
       "      <td>0.367941</td>\n",
       "      <td>0.246846</td>\n",
       "      <td>...</td>\n",
       "      <td>0.000000</td>\n",
       "      <td>0.176845</td>\n",
       "      <td>0.000000</td>\n",
       "      <td>0.117897</td>\n",
       "      <td>0.117897</td>\n",
       "      <td>0.000000</td>\n",
       "      <td>0.000000</td>\n",
       "      <td>0.0</td>\n",
       "      <td>0.0</td>\n",
       "      <td>0.000000</td>\n",
       "    </tr>\n",
       "  </tbody>\n",
       "</table>\n",
       "<p>5 rows × 9066 columns</p>\n",
       "</div>"
      ],
      "text/plain": [
       "movieId    1         2         3         4         5         6         7       \\\n",
       "movieId                                                                         \n",
       "1        0.000000  0.394511  0.306516  0.133614  0.245102  0.377086  0.278629   \n",
       "2        0.394511  0.000000  0.217492  0.164651  0.278476  0.222003  0.207299   \n",
       "3        0.306516  0.217492  0.000000  0.177012  0.370732  0.247499  0.435648   \n",
       "4        0.133614  0.164651  0.177012  0.000000  0.179556  0.072518  0.184626   \n",
       "5        0.245102  0.278476  0.370732  0.179556  0.000000  0.272645  0.388476   \n",
       "\n",
       "movieId    8         9         10        ...       161084    161155    161594  \\\n",
       "movieId                                  ...                                    \n",
       "1        0.063031  0.117499  0.310689    ...     0.055829  0.031902  0.079755   \n",
       "2        0.223524  0.113669  0.418124    ...     0.000000  0.055038  0.068797   \n",
       "3        0.127574  0.306717  0.191255    ...     0.000000  0.000000  0.000000   \n",
       "4        0.501513  0.254630  0.111447    ...     0.000000  0.000000  0.000000   \n",
       "5        0.194113  0.367941  0.246846    ...     0.000000  0.176845  0.000000   \n",
       "\n",
       "movieId    161830    161918    161944    162376  162542  162672    163949  \n",
       "movieId                                                                    \n",
       "1        0.079755  0.079755  0.079755  0.079755     0.0     0.0  0.055829  \n",
       "2        0.082557  0.082557  0.137594  0.068797     0.0     0.0  0.000000  \n",
       "3        0.116226  0.116226  0.000000  0.000000     0.0     0.0  0.000000  \n",
       "4        0.000000  0.000000  0.000000  0.000000     0.0     0.0  0.000000  \n",
       "5        0.117897  0.117897  0.000000  0.000000     0.0     0.0  0.000000  \n",
       "\n",
       "[5 rows x 9066 columns]"
      ]
     },
     "execution_count": 16,
     "metadata": {},
     "output_type": "execute_result"
    }
   ],
   "source": [
    "pd_movies.head()"
   ]
  },
  {
   "cell_type": "markdown",
   "metadata": {},
   "source": [
    "## Finding Similar Movies "
   ]
  },
  {
   "cell_type": "code",
   "execution_count": 17,
   "metadata": {},
   "outputs": [],
   "source": [
    "def topn_simovies(mid = 588,n=15):\n",
    "    mid_ratings = pd_movies.loc[mid,:].sort_values(ascending = False)\n",
    "    topn_movies = pd.DataFrame(mid_ratings.iloc[:n,])\n",
    "    topn_movies['index1'] = topn_movies.index\n",
    "    topn_movies['index1'] = topn_movies['index1'].astype('int64')\n",
    "    topn_movies = pd.merge(topn_movies,movies[['movieId','title']],how = 'left',left_on ='index1' ,right_on = 'movieId')\n",
    "    print (\"Movies similar to movie id:\",mid,\",\",movies['title'][movies['movieId']==mid].to_string(index=False),\",are\")\n",
    "    del topn_movies['index1']\n",
    "    return topn_movies"
   ]
  },
  {
   "cell_type": "code",
   "execution_count": 18,
   "metadata": {},
   "outputs": [
    {
     "name": "stdout",
     "output_type": "stream",
     "text": [
      "Movies similar to movie id: 589 , Terminator 2: Judgment Day (1991) ,are\n",
      "         589  movieId                                              title\n",
      "0   0.702256      480                               Jurassic Park (1993)\n",
      "1   0.636392     1240                             Terminator, The (1984)\n",
      "2   0.633428      110                                  Braveheart (1995)\n",
      "3   0.619415      356                                Forrest Gump (1994)\n",
      "4   0.614814      377                                       Speed (1994)\n",
      "5   0.605887      380                                   True Lies (1994)\n",
      "6   0.604555      457                               Fugitive, The (1993)\n",
      "7   0.591071      593                   Silence of the Lambs, The (1991)\n",
      "8   0.579325      367                                   Mask, The (1994)\n",
      "9   0.577299     1036                                    Die Hard (1988)\n",
      "10  0.576275      592                                      Batman (1989)\n",
      "11  0.568341      296                                Pulp Fiction (1994)\n",
      "12  0.564779     1196  Star Wars: Episode V - The Empire Strikes Back...\n",
      "13  0.562415      260          Star Wars: Episode IV - A New Hope (1977)\n",
      "14  0.553626       47                        Seven (a.k.a. Se7en) (1995)\n"
     ]
    }
   ],
   "source": [
    "print (topn_simovies(mid=589,n=15))"
   ]
  },
  {
   "cell_type": "markdown",
   "metadata": {},
   "source": [
    "## Application of Matrix Factorisation"
   ]
  },
  {
   "cell_type": "markdown",
   "metadata": {},
   "source": [
    "### Transpose the Ratings table into User-Item Rating Matrix for factorization "
   ]
  },
  {
   "cell_type": "code",
   "execution_count": 19,
   "metadata": {},
   "outputs": [],
   "source": [
    "rp = ratings.pivot_table(columns = ['movieId'],index = ['userId'],values = 'rating')\n",
    "rp = rp.fillna(0)"
   ]
  },
  {
   "cell_type": "code",
   "execution_count": 20,
   "metadata": {},
   "outputs": [
    {
     "data": {
      "text/html": [
       "<div>\n",
       "<style scoped>\n",
       "    .dataframe tbody tr th:only-of-type {\n",
       "        vertical-align: middle;\n",
       "    }\n",
       "\n",
       "    .dataframe tbody tr th {\n",
       "        vertical-align: top;\n",
       "    }\n",
       "\n",
       "    .dataframe thead th {\n",
       "        text-align: right;\n",
       "    }\n",
       "</style>\n",
       "<table border=\"1\" class=\"dataframe\">\n",
       "  <thead>\n",
       "    <tr style=\"text-align: right;\">\n",
       "      <th>movieId</th>\n",
       "      <th>1</th>\n",
       "      <th>2</th>\n",
       "      <th>3</th>\n",
       "      <th>4</th>\n",
       "      <th>5</th>\n",
       "      <th>6</th>\n",
       "      <th>7</th>\n",
       "      <th>8</th>\n",
       "      <th>9</th>\n",
       "      <th>10</th>\n",
       "      <th>...</th>\n",
       "      <th>161084</th>\n",
       "      <th>161155</th>\n",
       "      <th>161594</th>\n",
       "      <th>161830</th>\n",
       "      <th>161918</th>\n",
       "      <th>161944</th>\n",
       "      <th>162376</th>\n",
       "      <th>162542</th>\n",
       "      <th>162672</th>\n",
       "      <th>163949</th>\n",
       "    </tr>\n",
       "    <tr>\n",
       "      <th>userId</th>\n",
       "      <th></th>\n",
       "      <th></th>\n",
       "      <th></th>\n",
       "      <th></th>\n",
       "      <th></th>\n",
       "      <th></th>\n",
       "      <th></th>\n",
       "      <th></th>\n",
       "      <th></th>\n",
       "      <th></th>\n",
       "      <th></th>\n",
       "      <th></th>\n",
       "      <th></th>\n",
       "      <th></th>\n",
       "      <th></th>\n",
       "      <th></th>\n",
       "      <th></th>\n",
       "      <th></th>\n",
       "      <th></th>\n",
       "      <th></th>\n",
       "      <th></th>\n",
       "    </tr>\n",
       "  </thead>\n",
       "  <tbody>\n",
       "    <tr>\n",
       "      <th>1</th>\n",
       "      <td>0.0</td>\n",
       "      <td>0.0</td>\n",
       "      <td>0.0</td>\n",
       "      <td>0.0</td>\n",
       "      <td>0.0</td>\n",
       "      <td>0.0</td>\n",
       "      <td>0.0</td>\n",
       "      <td>0.0</td>\n",
       "      <td>0.0</td>\n",
       "      <td>0.0</td>\n",
       "      <td>...</td>\n",
       "      <td>0.0</td>\n",
       "      <td>0.0</td>\n",
       "      <td>0.0</td>\n",
       "      <td>0.0</td>\n",
       "      <td>0.0</td>\n",
       "      <td>0.0</td>\n",
       "      <td>0.0</td>\n",
       "      <td>0.0</td>\n",
       "      <td>0.0</td>\n",
       "      <td>0.0</td>\n",
       "    </tr>\n",
       "    <tr>\n",
       "      <th>2</th>\n",
       "      <td>0.0</td>\n",
       "      <td>0.0</td>\n",
       "      <td>0.0</td>\n",
       "      <td>0.0</td>\n",
       "      <td>0.0</td>\n",
       "      <td>0.0</td>\n",
       "      <td>0.0</td>\n",
       "      <td>0.0</td>\n",
       "      <td>0.0</td>\n",
       "      <td>4.0</td>\n",
       "      <td>...</td>\n",
       "      <td>0.0</td>\n",
       "      <td>0.0</td>\n",
       "      <td>0.0</td>\n",
       "      <td>0.0</td>\n",
       "      <td>0.0</td>\n",
       "      <td>0.0</td>\n",
       "      <td>0.0</td>\n",
       "      <td>0.0</td>\n",
       "      <td>0.0</td>\n",
       "      <td>0.0</td>\n",
       "    </tr>\n",
       "    <tr>\n",
       "      <th>3</th>\n",
       "      <td>0.0</td>\n",
       "      <td>0.0</td>\n",
       "      <td>0.0</td>\n",
       "      <td>0.0</td>\n",
       "      <td>0.0</td>\n",
       "      <td>0.0</td>\n",
       "      <td>0.0</td>\n",
       "      <td>0.0</td>\n",
       "      <td>0.0</td>\n",
       "      <td>0.0</td>\n",
       "      <td>...</td>\n",
       "      <td>0.0</td>\n",
       "      <td>0.0</td>\n",
       "      <td>0.0</td>\n",
       "      <td>0.0</td>\n",
       "      <td>0.0</td>\n",
       "      <td>0.0</td>\n",
       "      <td>0.0</td>\n",
       "      <td>0.0</td>\n",
       "      <td>0.0</td>\n",
       "      <td>0.0</td>\n",
       "    </tr>\n",
       "    <tr>\n",
       "      <th>4</th>\n",
       "      <td>0.0</td>\n",
       "      <td>0.0</td>\n",
       "      <td>0.0</td>\n",
       "      <td>0.0</td>\n",
       "      <td>0.0</td>\n",
       "      <td>0.0</td>\n",
       "      <td>0.0</td>\n",
       "      <td>0.0</td>\n",
       "      <td>0.0</td>\n",
       "      <td>4.0</td>\n",
       "      <td>...</td>\n",
       "      <td>0.0</td>\n",
       "      <td>0.0</td>\n",
       "      <td>0.0</td>\n",
       "      <td>0.0</td>\n",
       "      <td>0.0</td>\n",
       "      <td>0.0</td>\n",
       "      <td>0.0</td>\n",
       "      <td>0.0</td>\n",
       "      <td>0.0</td>\n",
       "      <td>0.0</td>\n",
       "    </tr>\n",
       "    <tr>\n",
       "      <th>5</th>\n",
       "      <td>0.0</td>\n",
       "      <td>0.0</td>\n",
       "      <td>4.0</td>\n",
       "      <td>0.0</td>\n",
       "      <td>0.0</td>\n",
       "      <td>0.0</td>\n",
       "      <td>0.0</td>\n",
       "      <td>0.0</td>\n",
       "      <td>0.0</td>\n",
       "      <td>0.0</td>\n",
       "      <td>...</td>\n",
       "      <td>0.0</td>\n",
       "      <td>0.0</td>\n",
       "      <td>0.0</td>\n",
       "      <td>0.0</td>\n",
       "      <td>0.0</td>\n",
       "      <td>0.0</td>\n",
       "      <td>0.0</td>\n",
       "      <td>0.0</td>\n",
       "      <td>0.0</td>\n",
       "      <td>0.0</td>\n",
       "    </tr>\n",
       "  </tbody>\n",
       "</table>\n",
       "<p>5 rows × 9066 columns</p>\n",
       "</div>"
      ],
      "text/plain": [
       "movieId  1       2       3       4       5       6       7       8       \\\n",
       "userId                                                                    \n",
       "1           0.0     0.0     0.0     0.0     0.0     0.0     0.0     0.0   \n",
       "2           0.0     0.0     0.0     0.0     0.0     0.0     0.0     0.0   \n",
       "3           0.0     0.0     0.0     0.0     0.0     0.0     0.0     0.0   \n",
       "4           0.0     0.0     0.0     0.0     0.0     0.0     0.0     0.0   \n",
       "5           0.0     0.0     4.0     0.0     0.0     0.0     0.0     0.0   \n",
       "\n",
       "movieId  9       10       ...    161084  161155  161594  161830  161918  \\\n",
       "userId                    ...                                             \n",
       "1           0.0     0.0   ...       0.0     0.0     0.0     0.0     0.0   \n",
       "2           0.0     4.0   ...       0.0     0.0     0.0     0.0     0.0   \n",
       "3           0.0     0.0   ...       0.0     0.0     0.0     0.0     0.0   \n",
       "4           0.0     4.0   ...       0.0     0.0     0.0     0.0     0.0   \n",
       "5           0.0     0.0   ...       0.0     0.0     0.0     0.0     0.0   \n",
       "\n",
       "movieId  161944  162376  162542  162672  163949  \n",
       "userId                                           \n",
       "1           0.0     0.0     0.0     0.0     0.0  \n",
       "2           0.0     0.0     0.0     0.0     0.0  \n",
       "3           0.0     0.0     0.0     0.0     0.0  \n",
       "4           0.0     0.0     0.0     0.0     0.0  \n",
       "5           0.0     0.0     0.0     0.0     0.0  \n",
       "\n",
       "[5 rows x 9066 columns]"
      ]
     },
     "execution_count": 20,
     "metadata": {},
     "output_type": "execute_result"
    }
   ],
   "source": [
    "rp.head()"
   ]
  },
  {
   "cell_type": "code",
   "execution_count": 21,
   "metadata": {},
   "outputs": [],
   "source": [
    "A = rp.values"
   ]
  },
  {
   "cell_type": "code",
   "execution_count": 22,
   "metadata": {},
   "outputs": [
    {
     "name": "stdout",
     "output_type": "stream",
     "text": [
      "\n",
      "Shape of Original Sparse Matrix (671, 9066)\n"
     ]
    }
   ],
   "source": [
    "print (\"\\nShape of Original Sparse Matrix\",A.shape)"
   ]
  },
  {
   "cell_type": "markdown",
   "metadata": {},
   "source": [
    "## Consider only the >0 rated elements for Learning"
   ]
  },
  {
   "cell_type": "code",
   "execution_count": 23,
   "metadata": {},
   "outputs": [],
   "source": [
    "W = A>0.5\n",
    "W[W==True]=1\n",
    "W[W==False]=0\n",
    "W = W.astype(np.float64,copy=False)"
   ]
  },
  {
   "cell_type": "code",
   "execution_count": 24,
   "metadata": {},
   "outputs": [
    {
     "data": {
      "text/plain": [
       "array([[0., 0., 0., ..., 0., 0., 0.],\n",
       "       [0., 0., 0., ..., 0., 0., 0.],\n",
       "       [0., 0., 0., ..., 0., 0., 0.],\n",
       "       ...,\n",
       "       [0., 0., 0., ..., 0., 0., 0.],\n",
       "       [1., 0., 0., ..., 0., 0., 0.],\n",
       "       [1., 0., 0., ..., 0., 0., 0.]])"
      ]
     },
     "execution_count": 24,
     "metadata": {},
     "output_type": "execute_result"
    }
   ],
   "source": [
    "W"
   ]
  },
  {
   "cell_type": "markdown",
   "metadata": {},
   "source": [
    "## Consider only the 0 rated elements for Predictions "
   ]
  },
  {
   "cell_type": "code",
   "execution_count": 25,
   "metadata": {},
   "outputs": [],
   "source": [
    "W_pred = A<0.5\n",
    "W_pred[W_pred==True]=1\n",
    "W_pred[W_pred==False]=0\n",
    "W_pred = W_pred.astype(np.float64,copy=False)\n",
    "np.fill_diagonal(W_pred,val=0)"
   ]
  },
  {
   "cell_type": "code",
   "execution_count": 26,
   "metadata": {},
   "outputs": [
    {
     "data": {
      "text/plain": [
       "array([[0., 1., 1., ..., 1., 1., 1.],\n",
       "       [1., 0., 1., ..., 1., 1., 1.],\n",
       "       [1., 1., 0., ..., 1., 1., 1.],\n",
       "       ...,\n",
       "       [1., 1., 1., ..., 1., 1., 1.],\n",
       "       [0., 1., 1., ..., 1., 1., 1.],\n",
       "       [0., 1., 1., ..., 1., 1., 1.]])"
      ]
     },
     "execution_count": 26,
     "metadata": {},
     "output_type": "execute_result"
    }
   ],
   "source": [
    "W_pred"
   ]
  },
  {
   "cell_type": "markdown",
   "metadata": {},
   "source": [
    "## ALS "
   ]
  },
  {
   "cell_type": "code",
   "execution_count": 27,
   "metadata": {},
   "outputs": [
    {
     "name": "stdout",
     "output_type": "stream",
     "text": [
      "0  iterations completed RMSError value is: 2.1525697830603385\n",
      "10  iterations completed RMSError value is: 1.715952655155801\n",
      "20  iterations completed RMSError value is: 1.7072849463649327\n",
      "30  iterations completed RMSError value is: 1.7035460065183443\n",
      "40  iterations completed RMSError value is: 1.7014938709153253\n",
      "50  iterations completed RMSError value is: 1.700211268628024\n",
      "60  iterations completed RMSError value is: 1.6993283090954265\n",
      "70  iterations completed RMSError value is: 1.6986781373652955\n",
      "80  iterations completed RMSError value is: 1.6981768908038581\n",
      "90  iterations completed RMSError value is: 1.6977773263616687\n",
      "100  iterations completed RMSError value is: 1.6974504945064888\n",
      "110  iterations completed RMSError value is: 1.6971776095443016\n",
      "120  iterations completed RMSError value is: 1.6969459379202072\n",
      "130  iterations completed RMSError value is: 1.6967465310247027\n",
      "140  iterations completed RMSError value is: 1.6965729052525054\n",
      "150  iterations completed RMSError value is: 1.696420240005895\n",
      "160  iterations completed RMSError value is: 1.696284871317005\n",
      "170  iterations completed RMSError value is: 1.6961639608543364\n",
      "180  iterations completed RMSError value is: 1.6960552729292593\n",
      "190  iterations completed RMSError value is: 1.695957020334754\n",
      "RMSError of rated movies:  1.695876313023208\n"
     ]
    },
    {
     "data": {
      "image/png": "[encoded data removed]",
      "text/plain": [
       "<matplotlib.figure.Figure at 0x1174bdfd0>"
      ]
     },
     "metadata": {},
     "output_type": "display_data"
    }
   ],
   "source": [
    "# Parameters\n",
    "m,n = A.shape\n",
    "\n",
    "n_iterations = 200\n",
    "n_factors = 100\n",
    "lmbda = 0.001\n",
    "\n",
    "X = 5 * np.random.rand(m,n_factors)\n",
    "Y = 5* np.random.rand(n_factors,n)\n",
    "\n",
    "def get_error(A, X, Y, W):\n",
    "    return np.sqrt(np.sum((W * (A - np.dot(X, Y)))**2)/np.sum(W))\n",
    "\n",
    "errors = []\n",
    "for itr in range(n_iterations):\n",
    "    X = np.linalg.solve(np.dot(Y,Y.T)+ lmbda * np.eye(n_factors),np.dot(Y,A.T)).T\n",
    "    Y = np.linalg.solve(np.dot(X.T,X)+ lmbda * np.eye(n_factors),np.dot(X.T,A))\n",
    "    \n",
    "    if itr%10 == 0:\n",
    "        print(itr,\" iterations completed\",\"RMSError value is:\",get_error(A,X,Y,W))\n",
    "                 \n",
    "    errors.append(get_error(A,X,Y,W))\n",
    "\n",
    "A_hat = np.dot(X,Y)\n",
    "print (\"RMSError of rated movies: \",get_error(A,X,Y,W))\n",
    "    \n",
    "\n",
    "plt.plot(errors);\n",
    "plt.ylim([0, 3.5]);\n",
    "plt.xlabel(\"Number of Iterations\");plt.ylabel(\"RMSE\")\n",
    "#plt.title(\"No.of Iterations vs. RMSE\")\n",
    "plt.show()"
   ]
  },
  {
   "cell_type": "code",
   "execution_count": 28,
   "metadata": {},
   "outputs": [],
   "source": [
    "def print_recommovies(uid=315,n_movies=15,pred_mat = A_hat,wpred_mat = W_pred ):\n",
    "    pred_recos = pred_mat*wpred_mat\n",
    "    pd_predrecos = pd.DataFrame(pred_recos,index =rp.index ,columns= rp.columns )\n",
    "    pred_ratings = pd_predrecos.loc[uid,:].sort_values(ascending = False)\n",
    "    pred_topratings = pred_ratings[:n_movies,]\n",
    "    pred_topratings = pred_topratings.rename('pred_ratings')  \n",
    "    pred_topratings = pd.DataFrame(pred_topratings)\n",
    "    pred_topratings['index1'] = pred_topratings.index\n",
    "    pred_topratings['index1'] = pred_topratings['index1'].astype('int64')\n",
    "    pred_topratings = pd.merge(pred_topratings,movies[['movieId','title']],how = 'left',left_on ='index1' ,right_on = 'movieId')\n",
    "    del pred_topratings['index1']    \n",
    "    print (\"\\nTop\",n_movies,\"movies predicted for the user:\",uid,\" based on collaborative filtering\\n\")\n",
    "    return pred_topratings"
   ]
  },
  {
   "cell_type": "code",
   "execution_count": 29,
   "metadata": {},
   "outputs": [
    {
     "name": "stdout",
     "output_type": "stream",
     "text": [
      "\n",
      "Top 10 movies predicted for the user: 355  based on collaborative filtering\n",
      "\n",
      "   pred_ratings  movieId                                title\n",
      "0      2.678860     1213                    Goodfellas (1990)\n",
      "1      2.449792     1197           Princess Bride, The (1987)\n",
      "2      2.275619     1923  There's Something About Mary (1998)\n",
      "3      2.072617     5010               Black Hawk Down (2001)\n",
      "4      2.062469     2987      Who Framed Roger Rabbit? (1988)\n",
      "5      2.038447     5903                   Equilibrium (2002)\n",
      "6      1.960748     8798                    Collateral (2004)\n",
      "7      1.906747     8622               Fahrenheit 9/11 (2004)\n",
      "8      1.821751     8957                           Saw (2004)\n",
      "9      1.817924     1298          Pink Floyd: The Wall (1982)\n"
     ]
    }
   ],
   "source": [
    "predmtrx = print_recommovies(uid=355,n_movies=10,pred_mat=A_hat,wpred_mat=W_pred)\n",
    "print (predmtrx)"
   ]
  },
  {
   "cell_type": "code",
   "execution_count": 30,
   "metadata": {},
   "outputs": [
    {
     "name": "stdout",
     "output_type": "stream",
     "text": [
      "\n",
      "\n",
      "Grid Search results of ALS Matrix Factorization:\n",
      "\n",
      "No.of iters 20 No.of Factors 30 Lambda 0.001 RMSE 2.318738204953951\n",
      "No.of iters 20 No.of Factors 50 Lambda 0.001 RMSE 2.1036008963226798\n",
      "No.of iters 20 No.of Factors 70 Lambda 0.001 RMSE 1.929575167349627\n",
      "No.of iters 20 No.of Factors 100 Lambda 0.001 RMSE 1.7074291518177451\n",
      "No.of iters 50 No.of Factors 100 Lambda 0.001 RMSE 1.700719494353351\n",
      "No.of iters 50 No.of Factors 100 Lambda 0.1 RMSE 1.7001925849514214\n",
      "No.of iters 100 No.of Factors 100 Lambda 0.001 RMSE 1.6968301702589288\n",
      "No.of iters 200 No.of Factors 100 Lambda 0.001 RMSE 1.6958355285052729\n",
      "No.of iters 200 No.of Factors 100 Lambda 0.1 RMSE 1.695467672756167\n"
     ]
    }
   ],
   "source": [
    "# Grid Search for CF\n",
    "def get_error(A, X, Y, W):\n",
    "    return np.sqrt(np.sum((W*(A-np.dot(X,Y))**2/np.sum(W))))\n",
    "niters = [20,50,100,200]\n",
    "factors = [30,50,70,100]\n",
    "lambdas = [0.001,0.01,0.05,0.1]\n",
    "\n",
    "init_error = float('inf')\n",
    "print(\"\\n\\nGrid Search results of ALS Matrix Factorization:\\n\")\n",
    "\n",
    "for niter in niters:\n",
    "     for facts in factors:\n",
    "            for lmbd in lambdas:\n",
    "                \n",
    "                X = 5* np.random.rand(m, facts)\n",
    "                Y = 5* np.random.rand(facts,n)\n",
    "                \n",
    "                for itr in range(niter):\n",
    "                    X = np.linalg.solve(np.dot(Y,Y.T) +lmbd*np.eye(facts),np.dot(Y,A.T)).T\n",
    "                    Y = np.linalg.solve(np.dot(X.T,X) +lmbd*np.eye(facts),np.dot(X.T,A))\n",
    "                error = get_error(A, X, Y, W)\n",
    "                \n",
    "                if error<init_error:\n",
    "                    print (\"No.of iters\",niter,\"No.of Factors\",facts,\"Lambda\",lmbd,\"RMSE\",error)\n",
    "                    init_error = error"
   ]
  },
  {
   "cell_type": "code",
   "execution_count": null,
   "metadata": {
    "collapsed": true
   },
   "outputs": [],
   "source": []
  },
  {
   "cell_type": "code",
   "execution_count": null,
   "metadata": {
    "collapsed": true
   },
   "outputs": [],
   "source": []
  }
 ],
 "metadata": {
  "kernelspec": {
   "display_name": "Python 3",
   "language": "python",
   "name": "python3"
  },
  "language_info": {
   "codemirror_mode": {
    "name": "ipython",
    "version": 3
   },
   "file_extension": ".py",
   "mimetype": "text/x-python",
   "name": "python",
   "nbconvert_exporter": "python",
   "pygments_lexer": "ipython3",
   "version": "3.6.4"
  }
 },
 "nbformat": 4,
 "nbformat_minor": 1
}
