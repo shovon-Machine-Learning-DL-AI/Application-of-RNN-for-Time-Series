{
 "cells": [
  {
   "cell_type": "code",
   "execution_count": 31,
   "metadata": {
    "collapsed": true
   },
   "outputs": [],
   "source": [
    "import os\n",
    "os.chdir('/sasdata/corpid/a589565/Reinforcement Learning/Data_Science_Bootcamp_Codes/Data')"
   ]
  },
  {
   "cell_type": "code",
   "execution_count": 2,
   "metadata": {
    "collapsed": true
   },
   "outputs": [],
   "source": [
    "import sys\n",
    "sys.path = ['/sasdata/corpid/a589565/conda'] + sys.path\n",
    "\n",
    "import os\n",
    "os.environ['KERAS_BACKEND']=\"theano\""
   ]
  },
  {
   "cell_type": "code",
   "execution_count": 3,
   "metadata": {
    "collapsed": true
   },
   "outputs": [
    {
     "ename": "ImportError",
     "evalue": "No module named keras",
     "output_type": "error",
     "traceback": [
      "\u001b[1;31m---------------------------------------------------------------------------\u001b[0m",
      "\u001b[1;31mImportError\u001b[0m                               Traceback (most recent call last)",
      "\u001b[1;32m<ipython-input-3-5d8506ef43ea>\u001b[0m in \u001b[0;36m<module>\u001b[1;34m()\u001b[0m\n\u001b[1;32m----> 1\u001b[1;33m \u001b[1;32mimport\u001b[0m \u001b[0mkeras\u001b[0m\u001b[1;33m\u001b[0m\u001b[0m\n\u001b[0m\u001b[0;32m      2\u001b[0m \u001b[1;32mprint\u001b[0m\u001b[1;33m(\u001b[0m\u001b[0mkeras\u001b[0m\u001b[1;33m.\u001b[0m\u001b[0m__version__\u001b[0m\u001b[1;33m)\u001b[0m\u001b[1;33m\u001b[0m\u001b[0m\n",
      "\u001b[1;31mImportError\u001b[0m: No module named keras"
     ]
    }
   ],
   "source": [
    "import keras\n",
    "print(keras.__version__)"
   ]
  },
  {
   "cell_type": "code",
   "execution_count": 4,
   "metadata": {
    "collapsed": true
   },
   "outputs": [],
   "source": [
    "import numpy as np\n",
    "import pandas as pd"
   ]
  },
  {
   "cell_type": "markdown",
   "metadata": {},
   "source": [
    "# Curse of Dimensionality"
   ]
  },
  {
   "cell_type": "code",
   "execution_count": 5,
   "metadata": {
    "collapsed": false
   },
   "outputs": [
    {
     "name": "stdout",
     "output_type": "stream",
     "text": [
      "(1, 0.008568423721159513, 0.2946739023435819, 0.029077647029525405)\n",
      "(6, 0.25379493414964016, 0.9667753154902478, 0.2625169779194681)\n",
      "(11, 0.738705821265062, 1.3104263423770046, 0.5637141114891746)\n",
      "(16, 0.9950841752778639, 1.6156455482363306, 0.6159050024085523)\n",
      "(21, 1.397088865167346, 1.858513081501817, 0.7517239878873461)\n",
      "(26, 1.4808481069478945, 2.0765425327144875, 0.7131316039128308)\n",
      "(31, 1.5530060802477086, 2.263369255433062, 0.6861479082654429)\n",
      "(36, 1.845266560750287, 2.454633821235554, 0.7517482016203384)\n",
      "(41, 2.129143670836968, 2.630911753351952, 0.8092797746348965)\n",
      "(46, 1.979481142277655, 2.6968004828230385, 0.7340109714773982)\n",
      "(51, 2.221036049228979, 2.8827397759970768, 0.7704601253717988)\n",
      "(56, 2.2783530300936823, 3.018573380366692, 0.7547780832205283)\n",
      "(61, 2.6958439331458197, 3.187013263662854, 0.8458841272745347)\n",
      "(66, 2.78914114706725, 3.311823920801716, 0.8421767623419011)\n",
      "(71, 2.9029302623153876, 3.403859937518776, 0.852834815650923)\n",
      "(76, 2.9301052312953373, 3.5059829189185727, 0.8357442974077962)\n",
      "(81, 2.8186839239532566, 3.7076721555147585, 0.7602300866220794)\n",
      "(86, 3.215433112655434, 3.738906914709409, 0.859992823037516)\n",
      "(91, 3.3081582047260722, 3.909280647841953, 0.8462319548616395)\n",
      "(96, 3.511433303395462, 3.974574007832699, 0.8834741274097488)\n",
      "(101, 3.557248561839308, 4.1056233601541905, 0.8664332428451772)\n",
      "(106, 3.7105462238559768, 4.180625222355623, 0.8875577279719002)\n",
      "(111, 3.623148791539366, 4.287214836504996, 0.8451054891601871)\n",
      "(116, 3.731470894207791, 4.412301522144705, 0.8456971663156013)\n",
      "(121, 3.8676124892802637, 4.436163346102956, 0.8718372583547565)\n",
      "(126, 3.9699664797756498, 4.576053056689437, 0.8675525459592763)\n",
      "(131, 4.085223494689015, 4.615938350924922, 0.8850255753243402)\n",
      "(136, 4.083691295397793, 4.7756973273031, 0.8550984318145447)\n",
      "(141, 4.223936157264495, 4.886094902773908, 0.8644809896890263)\n",
      "(146, 4.359534020264704, 4.950325879089774, 0.8806559662424285)\n",
      "(151, 4.412020667556781, 5.062623164787511, 0.8714890529960988)\n",
      "(156, 4.443773615494397, 5.134003574963356, 0.8655571720216643)\n",
      "(161, 4.522573589295557, 5.155900407488142, 0.8771646525071011)\n",
      "(166, 4.600509370830464, 5.216997609969282, 0.8818308373458411)\n",
      "(171, 4.696504293970005, 5.349007310729657, 0.8780141849029096)\n",
      "(176, 4.824212684012188, 5.403197807884933, 0.8928439889748574)\n",
      "(181, 5.015836896256423, 5.514398608841702, 0.9095891051862133)\n",
      "(186, 5.043192158298105, 5.605096650646215, 0.8997511501816249)\n",
      "(191, 5.191629392747425, 5.637414147498233, 0.9209238946993742)\n",
      "(196, 5.061463338506844, 5.695908217488619, 0.8886139216510219)\n"
     ]
    },
    {
     "data": {
      "image/png": "[encoded data removed]",
      "text/plain": [
       "<matplotlib.figure.Figure at 0x7f4146d0b650>"
      ]
     },
     "metadata": {},
     "output_type": "display_data"
    }
   ],
   "source": [
    "# KNN - Curse of Dimensionality\n",
    "import random,math\n",
    "\n",
    "def random_point_gen(dimension):\n",
    "    return [random.random() for _ in range(dimension)]\n",
    "\n",
    "def distance(v,w):\n",
    "    vec_sub = [v_i-w_i for v_i,w_i in zip(v,w)]\n",
    "    sum_of_sqrs = sum(v_i*v_i for v_i in vec_sub)\n",
    "    return math.sqrt(sum_of_sqrs)\n",
    "\n",
    "def random_distances_comparison(dimension,number_pairs):\n",
    "    return [distance(random_point_gen(dimension),random_point_gen(dimension))\n",
    "            for _ in range(number_pairs)]\n",
    "\n",
    "def mean(x):\n",
    "    return sum(x) / len(x)\n",
    "\n",
    "dimensions = range(1, 201, 5)\n",
    "\n",
    "avg_distances = []\n",
    "min_distances = []\n",
    "\n",
    "\n",
    "dummyarray = np.empty((20,4))\n",
    "dist_vals = pd.DataFrame(dummyarray)\n",
    "dist_vals.columns = [\"Dimension\",\"Min_Distance\",\"Avg_Distance\",\"Min/Avg_Distance\"]\n",
    "\n",
    "random.seed(34)\n",
    "i = 0\n",
    "for dims in dimensions:\n",
    "    distances = random_distances_comparison(dims, 100)  \n",
    "    avg_distances.append(mean(distances))    \n",
    "    min_distances.append(min(distances))     \n",
    "    \n",
    "    dist_vals.loc[i,\"Dimension\"] = dims\n",
    "    dist_vals.loc[i,\"Min_Distance\"] = min(distances)\n",
    "    dist_vals.loc[i,\"Avg_Distance\"] = mean(distances)\n",
    "    dist_vals.loc[i,\"Min/Avg_Distance\"] = min(distances)/mean(distances)\n",
    "                 \n",
    "    print(dims, min(distances), mean(distances), min(distances)*1.0 / mean(distances))\n",
    "    i = i+1\n",
    "\n",
    "# Ploting Average distances for Various Dimensions\n",
    "import matplotlib.pyplot as plt\n",
    "%matplotlib inline\n",
    "plt.figure()\n",
    "#plt.title('Avg. Distance Change with Number of Dimensions for 1K Obs')\n",
    "plt.xlabel('Dimensions')\n",
    "plt.ylabel('Avg. Distance')\n",
    "plt.plot(dist_vals[\"Dimension\"],dist_vals[\"Avg_Distance\"])\n",
    "plt.legend(loc='best')\n",
    "plt.show()"
   ]
  },
  {
   "cell_type": "code",
   "execution_count": 6,
   "metadata": {
    "collapsed": true
   },
   "outputs": [],
   "source": [
    "# 1-Dimension Plot\n",
    "import numpy as np\n",
    "import pandas as pd\n",
    "import matplotlib.pyplot as plt\n",
    "%matplotlib inline"
   ]
  },
  {
   "cell_type": "code",
   "execution_count": 7,
   "metadata": {
    "collapsed": true
   },
   "outputs": [],
   "source": [
    "one_d_data = np.random.rand(60,1)\n",
    "one_d_data_df = pd.DataFrame(one_d_data)\n",
    "one_d_data_df.columns = [\"1D_Data\"]\n",
    "one_d_data_df[\"height\"] = 1"
   ]
  },
  {
   "cell_type": "code",
   "execution_count": 8,
   "metadata": {
    "collapsed": false
   },
   "outputs": [
    {
     "data": {
      "image/png": "[encoded data removed]",
      "text/plain": [
       "<matplotlib.figure.Figure at 0x7f4146aa0410>"
      ]
     },
     "metadata": {},
     "output_type": "display_data"
    }
   ],
   "source": [
    "plt.figure()\n",
    "plt.scatter(one_d_data_df['1D_Data'],one_d_data_df[\"height\"])\n",
    "plt.yticks([])\n",
    "plt.xlabel(\"1-D points\")\n",
    "plt.show()"
   ]
  },
  {
   "cell_type": "code",
   "execution_count": 9,
   "metadata": {
    "collapsed": false
   },
   "outputs": [
    {
     "data": {
      "image/png": "[encoded data removed]",
      "text/plain": [
       "<matplotlib.figure.Figure at 0x7f4146a9c6d0>"
      ]
     },
     "metadata": {},
     "output_type": "display_data"
    }
   ],
   "source": [
    "# 2- Dimensions Plot\n",
    "two_d_data = np.random.rand(60,2)\n",
    "two_d_data_df = pd.DataFrame(two_d_data)\n",
    "two_d_data_df.columns = [\"x_axis\",\"y_axis\"]\n",
    "\n",
    "plt.figure()\n",
    "plt.scatter(two_d_data_df['x_axis'],two_d_data_df[\"y_axis\"])\n",
    "plt.xlabel(\"x_axis\");plt.ylabel(\"y_axis\")\n",
    "plt.show()"
   ]
  },
  {
   "cell_type": "code",
   "execution_count": 10,
   "metadata": {
    "collapsed": false
   },
   "outputs": [
    {
     "data": {
      "image/png": "[encoded data removed]",
      "text/plain": [
       "<matplotlib.figure.Figure at 0x7f4144329d90>"
      ]
     },
     "metadata": {},
     "output_type": "display_data"
    }
   ],
   "source": [
    "# 3- Dimensions Plot\n",
    "three_d_data = np.random.rand(60,3)\n",
    "three_d_data_df = pd.DataFrame(three_d_data)\n",
    "three_d_data_df.columns = [\"x_axis\",\"y_axis\",\"z_axis\"]\n",
    "\n",
    "from mpl_toolkits.mplot3d import Axes3D\n",
    "fig = plt.figure()\n",
    "ax = fig.add_subplot(111, projection='3d')\n",
    "ax.scatter(three_d_data_df['x_axis'],three_d_data_df[\"y_axis\"],three_d_data_df[\"z_axis\"])\n",
    "ax.set_xlabel('x_axis')\n",
    "ax.set_ylabel('y_axis')\n",
    "ax.set_zlabel('z_axis')\n",
    "plt.show()"
   ]
  },
  {
   "cell_type": "markdown",
   "metadata": {},
   "source": [
    "# KNN - Classifier"
   ]
  },
  {
   "cell_type": "code",
   "execution_count": 11,
   "metadata": {
    "collapsed": true
   },
   "outputs": [],
   "source": [
    "from sklearn.metrics import accuracy_score, classification_report"
   ]
  },
  {
   "cell_type": "code",
   "execution_count": 12,
   "metadata": {
    "collapsed": false
   },
   "outputs": [],
   "source": [
    "b_c_dataset = pd.read_csv('B_C_dataset.csv')"
   ]
  },
  {
   "cell_type": "code",
   "execution_count": 13,
   "metadata": {
    "collapsed": false
   },
   "outputs": [
    {
     "data": {
      "text/html": [
       "<div>\n",
       "<table border=\"1\" class=\"dataframe\">\n",
       "  <thead>\n",
       "    <tr style=\"text-align: right;\">\n",
       "      <th></th>\n",
       "      <th>ID_NUMBER</th>\n",
       "      <th>Clump_Thickness</th>\n",
       "      <th>Uniformity_of_Cell_Size</th>\n",
       "      <th>Uniformity of Cell Shape</th>\n",
       "      <th>Marginal Adhesion</th>\n",
       "      <th>Single Epithelial Cell Size</th>\n",
       "      <th>Bare Nuclei</th>\n",
       "      <th>Bland Chromatin</th>\n",
       "      <th>Normal Nucleoli</th>\n",
       "      <th>Mitoses</th>\n",
       "      <th>Class</th>\n",
       "    </tr>\n",
       "  </thead>\n",
       "  <tbody>\n",
       "    <tr>\n",
       "      <th>0</th>\n",
       "      <td>1000025</td>\n",
       "      <td>5</td>\n",
       "      <td>1</td>\n",
       "      <td>1</td>\n",
       "      <td>1</td>\n",
       "      <td>2</td>\n",
       "      <td>1</td>\n",
       "      <td>3</td>\n",
       "      <td>1</td>\n",
       "      <td>1</td>\n",
       "      <td>2</td>\n",
       "    </tr>\n",
       "    <tr>\n",
       "      <th>1</th>\n",
       "      <td>1002945</td>\n",
       "      <td>5</td>\n",
       "      <td>4</td>\n",
       "      <td>4</td>\n",
       "      <td>5</td>\n",
       "      <td>7</td>\n",
       "      <td>10</td>\n",
       "      <td>3</td>\n",
       "      <td>2</td>\n",
       "      <td>1</td>\n",
       "      <td>2</td>\n",
       "    </tr>\n",
       "  </tbody>\n",
       "</table>\n",
       "</div>"
      ],
      "text/plain": [
       "   ID_NUMBER  Clump_Thickness  Uniformity_of_Cell_Size  \\\n",
       "0    1000025                5                        1   \n",
       "1    1002945                5                        4   \n",
       "\n",
       "   Uniformity of Cell Shape  Marginal Adhesion  Single Epithelial Cell Size  \\\n",
       "0                         1                  1                            2   \n",
       "1                         4                  5                            7   \n",
       "\n",
       "  Bare Nuclei  Bland Chromatin  Normal Nucleoli  Mitoses  Class  \n",
       "0           1                3                1        1      2  \n",
       "1          10                3                2        1      2  "
      ]
     },
     "execution_count": 13,
     "metadata": {},
     "output_type": "execute_result"
    }
   ],
   "source": [
    "b_c_dataset.head(2)"
   ]
  },
  {
   "cell_type": "code",
   "execution_count": 14,
   "metadata": {
    "collapsed": true
   },
   "outputs": [],
   "source": [
    "# Modify the Column Name\n",
    "b_c_dataset.rename(columns = lambda x: x.replace(\" \",\"_\"), inplace=True)"
   ]
  },
  {
   "cell_type": "code",
   "execution_count": 15,
   "metadata": {
    "collapsed": false
   },
   "outputs": [
    {
     "data": {
      "text/html": [
       "<div>\n",
       "<table border=\"1\" class=\"dataframe\">\n",
       "  <thead>\n",
       "    <tr style=\"text-align: right;\">\n",
       "      <th></th>\n",
       "      <th>ID_NUMBER</th>\n",
       "      <th>Clump_Thickness</th>\n",
       "      <th>Uniformity_of_Cell_Size</th>\n",
       "      <th>Uniformity_of_Cell_Shape</th>\n",
       "      <th>Marginal_Adhesion</th>\n",
       "      <th>Single_Epithelial_Cell_Size</th>\n",
       "      <th>Bare_Nuclei</th>\n",
       "      <th>Bland_Chromatin</th>\n",
       "      <th>Normal_Nucleoli</th>\n",
       "      <th>Mitoses</th>\n",
       "      <th>Class</th>\n",
       "    </tr>\n",
       "  </thead>\n",
       "  <tbody>\n",
       "    <tr>\n",
       "      <th>0</th>\n",
       "      <td>1000025</td>\n",
       "      <td>5</td>\n",
       "      <td>1</td>\n",
       "      <td>1</td>\n",
       "      <td>1</td>\n",
       "      <td>2</td>\n",
       "      <td>1</td>\n",
       "      <td>3</td>\n",
       "      <td>1</td>\n",
       "      <td>1</td>\n",
       "      <td>2</td>\n",
       "    </tr>\n",
       "    <tr>\n",
       "      <th>1</th>\n",
       "      <td>1002945</td>\n",
       "      <td>5</td>\n",
       "      <td>4</td>\n",
       "      <td>4</td>\n",
       "      <td>5</td>\n",
       "      <td>7</td>\n",
       "      <td>10</td>\n",
       "      <td>3</td>\n",
       "      <td>2</td>\n",
       "      <td>1</td>\n",
       "      <td>2</td>\n",
       "    </tr>\n",
       "  </tbody>\n",
       "</table>\n",
       "</div>"
      ],
      "text/plain": [
       "   ID_NUMBER  Clump_Thickness  Uniformity_of_Cell_Size  \\\n",
       "0    1000025                5                        1   \n",
       "1    1002945                5                        4   \n",
       "\n",
       "   Uniformity_of_Cell_Shape  Marginal_Adhesion  Single_Epithelial_Cell_Size  \\\n",
       "0                         1                  1                            2   \n",
       "1                         4                  5                            7   \n",
       "\n",
       "  Bare_Nuclei  Bland_Chromatin  Normal_Nucleoli  Mitoses  Class  \n",
       "0           1                3                1        1      2  \n",
       "1          10                3                2        1      2  "
      ]
     },
     "execution_count": 15,
     "metadata": {},
     "output_type": "execute_result"
    }
   ],
   "source": [
    "b_c_dataset.head(2)"
   ]
  },
  {
   "cell_type": "code",
   "execution_count": 16,
   "metadata": {
    "collapsed": false
   },
   "outputs": [
    {
     "data": {
      "text/plain": [
       "Index([u'ID_NUMBER', u'Clump_Thickness', u'Uniformity_of_Cell_Size',\n",
       "       u'Uniformity_of_Cell_Shape', u'Marginal_Adhesion',\n",
       "       u'Single_Epithelial_Cell_Size', u'Bare_Nuclei', u'Bland_Chromatin',\n",
       "       u'Normal_Nucleoli', u'Mitoses', u'Class'],\n",
       "      dtype='object')"
      ]
     },
     "execution_count": 16,
     "metadata": {},
     "output_type": "execute_result"
    }
   ],
   "source": [
    "b_c_dataset.columns"
   ]
  },
  {
   "cell_type": "markdown",
   "metadata": {},
   "source": [
    "# Treatment of missing values and anomalies removal"
   ]
  },
  {
   "cell_type": "code",
   "execution_count": 17,
   "metadata": {
    "collapsed": true
   },
   "outputs": [],
   "source": [
    "b_c_dataset['Bare_Nuclei']=b_c_dataset['Bare_Nuclei'].replace('?',np.NAN)\n",
    "b_c_dataset['Bare_Nuclei']=b_c_dataset['Bare_Nuclei'].fillna(b_c_dataset['Bare_Nuclei'].value_counts().index[0])\n",
    "\n",
    "b_c_dataset['Cancer_Ind'] = 0\n",
    "b_c_dataset.loc[b_c_dataset['Class']==4,'Cancer_Ind']=1\n",
    "b_c_dataset.head(2)\n",
    "# Check the distribution of the Dep Class\n",
    "from collections import Counter\n",
    "Counter(b_c_dataset['Cancer_Ind'])\n",
    "\n",
    "x_vars = b_c_dataset.drop(['ID_NUMBER','Class','Cancer_Ind'],axis=1)\n",
    "y_var = b_c_dataset['Cancer_Ind']"
   ]
  },
  {
   "cell_type": "code",
   "execution_count": 18,
   "metadata": {
    "collapsed": false
   },
   "outputs": [
    {
     "name": "stderr",
     "output_type": "stream",
     "text": [
      "/export/home/aaescore/anaconda2/lib/python2.7/site-packages/sklearn/utils/validation.py:420: DataConversionWarning: Data with input dtype object was converted to float64 by StandardScaler.\n",
      "  warnings.warn(msg, DataConversionWarning)\n",
      "/export/home/aaescore/anaconda2/lib/python2.7/site-packages/sklearn/utils/validation.py:420: DataConversionWarning: Data with input dtype object was converted to float64 by StandardScaler.\n",
      "  warnings.warn(msg, DataConversionWarning)\n"
     ]
    }
   ],
   "source": [
    "from sklearn.preprocessing import StandardScaler\n",
    "x_vars_stdscale = StandardScaler().fit_transform(x_vars.values)"
   ]
  },
  {
   "cell_type": "code",
   "execution_count": 19,
   "metadata": {
    "collapsed": false
   },
   "outputs": [
    {
     "name": "stderr",
     "output_type": "stream",
     "text": [
      "/export/home/aaescore/anaconda2/lib/python2.7/site-packages/sklearn/utils/validation.py:420: DataConversionWarning: Data with input dtype object was converted to float64 by StandardScaler.\n",
      "  warnings.warn(msg, DataConversionWarning)\n",
      "/export/home/aaescore/anaconda2/lib/python2.7/site-packages/sklearn/utils/validation.py:420: DataConversionWarning: Data with input dtype object was converted to float64 by StandardScaler.\n",
      "  warnings.warn(msg, DataConversionWarning)\n"
     ]
    }
   ],
   "source": [
    "from sklearn.preprocessing import StandardScaler\n",
    "x_vars_stdscle = StandardScaler().fit_transform(x_vars.values)\n",
    "# from sklearn.model_selection import train_test_split\n",
    "from sklearn.cross_validation import train_test_split\n",
    "x_vars_stdscle_df = pd.DataFrame(x_vars_stdscle, index=x_vars.index, columns=x_vars.columns)\n",
    "x_train,x_test,y_train,y_test = train_test_split(x_vars_stdscle_df,y_var,train_size = 0.7,random_state=42)"
   ]
  },
  {
   "cell_type": "code",
   "execution_count": 20,
   "metadata": {
    "collapsed": false
   },
   "outputs": [
    {
     "name": "stdout",
     "output_type": "stream",
     "text": [
      "(489, 9)\n",
      "(210, 9)\n",
      "(489,)\n",
      "(210,)\n"
     ]
    }
   ],
   "source": [
    "print(x_train.shape)\n",
    "print(x_test.shape)\n",
    "print(y_train.shape)\n",
    "print(y_test.shape)"
   ]
  },
  {
   "cell_type": "code",
   "execution_count": 24,
   "metadata": {
    "collapsed": false
   },
   "outputs": [
    {
     "data": {
      "text/plain": [
       "KNeighborsClassifier(algorithm='auto', leaf_size=30, metric='minkowski',\n",
       "           metric_params=None, n_jobs=1, n_neighbors=3, p=2,\n",
       "           weights='uniform')"
      ]
     },
     "execution_count": 24,
     "metadata": {},
     "output_type": "execute_result"
    }
   ],
   "source": [
    "from sklearn.neighbors import KNeighborsClassifier as knn\n",
    "knn_fit =knn(n_neighbors=3,p=2,metric='minkowski')\n",
    "knn_fit.fit(x_train,y_train)"
   ]
  },
  {
   "cell_type": "code",
   "execution_count": 25,
   "metadata": {
    "collapsed": false
   },
   "outputs": [
    {
     "name": "stdout",
     "output_type": "stream",
     "text": [
      "('K-Nearest Neighbors - Train Confusion Matrix ', Predicted    0    1\n",
      "Actuall            \n",
      "0          309    6\n",
      "1            4  170)\n",
      "('K-Nearest Neighbors - Train accuracy:', 0.98)\n",
      "('K-Nearest Neighbors - Train Classification Report ', '             precision    recall  f1-score   support\\n\\n          0       0.99      0.98      0.98       315\\n          1       0.97      0.98      0.97       174\\n\\navg / total       0.98      0.98      0.98       489\\n')\n"
     ]
    }
   ],
   "source": [
    "print (\"K-Nearest Neighbors - Train Confusion Matrix \",pd.crosstab(y_train,knn_fit.predict(x_train),rownames = [\"Actuall\"],colnames = [\"Predicted\"]) )     \n",
    "print (\"K-Nearest Neighbors - Train accuracy:\",round(accuracy_score(y_train,knn_fit.predict(x_train)),3))\n",
    "print (\"K-Nearest Neighbors - Train Classification Report \",classification_report(y_train,knn_fit.predict(x_train)))"
   ]
  },
  {
   "cell_type": "markdown",
   "metadata": {},
   "source": [
    "# Grid Search and Cross Validation"
   ]
  },
  {
   "cell_type": "code",
   "execution_count": 26,
   "metadata": {
    "collapsed": false
   },
   "outputs": [
    {
     "name": "stdout",
     "output_type": "stream",
     "text": [
      "('\\nK-value', 1)\n",
      "('\\nK-Nearest Neighbors - Train Confusion Matrix\\n\\n', Predicted    0    1\n",
      "Actuall            \n",
      "0          315    0\n",
      "1            0  174)\n",
      "('\\nK-Nearest Neighbors - Train accuracy:', 1.0)\n",
      "('\\nK-Nearest Neighbors - Train Classification Report\\n', '             precision    recall  f1-score   support\\n\\n          0       1.00      1.00      1.00       315\\n          1       1.00      1.00      1.00       174\\n\\navg / total       1.00      1.00      1.00       489\\n')\n",
      "('\\n\\nK-Nearest Neighbors - Test Confusion Matrix\\n\\n', Predicted    0   1\n",
      "Actuall           \n",
      "0          141   2\n",
      "1            7  60)\n",
      "('\\nK-Nearest Neighbors - Test accuracy:', 0.957)\n",
      "('\\nK-Nearest Neighbors - Test Classification Report\\n', '             precision    recall  f1-score   support\\n\\n          0       0.95      0.99      0.97       143\\n          1       0.97      0.90      0.93        67\\n\\navg / total       0.96      0.96      0.96       210\\n')\n",
      "('\\nK-value', 2)\n",
      "('\\nK-Nearest Neighbors - Train Confusion Matrix\\n\\n', Predicted    0    1\n",
      "Actuall            \n",
      "0          315    0\n",
      "1           14  160)\n",
      "('\\nK-Nearest Neighbors - Train accuracy:', 0.971)\n",
      "('\\nK-Nearest Neighbors - Train Classification Report\\n', '             precision    recall  f1-score   support\\n\\n          0       0.96      1.00      0.98       315\\n          1       1.00      0.92      0.96       174\\n\\navg / total       0.97      0.97      0.97       489\\n')\n",
      "('\\n\\nK-Nearest Neighbors - Test Confusion Matrix\\n\\n', Predicted    0   1\n",
      "Actuall           \n",
      "0          141   2\n",
      "1           11  56)\n",
      "('\\nK-Nearest Neighbors - Test accuracy:', 0.938)\n",
      "('\\nK-Nearest Neighbors - Test Classification Report\\n', '             precision    recall  f1-score   support\\n\\n          0       0.93      0.99      0.96       143\\n          1       0.97      0.84      0.90        67\\n\\navg / total       0.94      0.94      0.94       210\\n')\n",
      "('\\nK-value', 3)\n",
      "('\\nK-Nearest Neighbors - Train Confusion Matrix\\n\\n', Predicted    0    1\n",
      "Actuall            \n",
      "0          309    6\n",
      "1            4  170)\n",
      "('\\nK-Nearest Neighbors - Train accuracy:', 0.98)\n",
      "('\\nK-Nearest Neighbors - Train Classification Report\\n', '             precision    recall  f1-score   support\\n\\n          0       0.99      0.98      0.98       315\\n          1       0.97      0.98      0.97       174\\n\\navg / total       0.98      0.98      0.98       489\\n')\n",
      "('\\n\\nK-Nearest Neighbors - Test Confusion Matrix\\n\\n', Predicted    0   1\n",
      "Actuall           \n",
      "0          141   2\n",
      "1            3  64)\n",
      "('\\nK-Nearest Neighbors - Test accuracy:', 0.976)\n",
      "('\\nK-Nearest Neighbors - Test Classification Report\\n', '             precision    recall  f1-score   support\\n\\n          0       0.98      0.99      0.98       143\\n          1       0.97      0.96      0.96        67\\n\\navg / total       0.98      0.98      0.98       210\\n')\n",
      "('\\nK-value', 4)\n",
      "('\\nK-Nearest Neighbors - Train Confusion Matrix\\n\\n', Predicted    0    1\n",
      "Actuall            \n",
      "0          310    5\n",
      "1           13  161)\n",
      "('\\nK-Nearest Neighbors - Train accuracy:', 0.963)\n",
      "('\\nK-Nearest Neighbors - Train Classification Report\\n', '             precision    recall  f1-score   support\\n\\n          0       0.96      0.98      0.97       315\\n          1       0.97      0.93      0.95       174\\n\\navg / total       0.96      0.96      0.96       489\\n')\n",
      "('\\n\\nK-Nearest Neighbors - Test Confusion Matrix\\n\\n', Predicted    0   1\n",
      "Actuall           \n",
      "0          141   2\n",
      "1            6  61)\n",
      "('\\nK-Nearest Neighbors - Test accuracy:', 0.962)\n",
      "('\\nK-Nearest Neighbors - Test Classification Report\\n', '             precision    recall  f1-score   support\\n\\n          0       0.96      0.99      0.97       143\\n          1       0.97      0.91      0.94        67\\n\\navg / total       0.96      0.96      0.96       210\\n')\n",
      "('\\nK-value', 5)\n",
      "('\\nK-Nearest Neighbors - Train Confusion Matrix\\n\\n', Predicted    0    1\n",
      "Actuall            \n",
      "0          306    9\n",
      "1            7  167)\n",
      "('\\nK-Nearest Neighbors - Train accuracy:', 0.967)\n",
      "('\\nK-Nearest Neighbors - Train Classification Report\\n', '             precision    recall  f1-score   support\\n\\n          0       0.98      0.97      0.97       315\\n          1       0.95      0.96      0.95       174\\n\\navg / total       0.97      0.97      0.97       489\\n')\n",
      "('\\n\\nK-Nearest Neighbors - Test Confusion Matrix\\n\\n', Predicted    0   1\n",
      "Actuall           \n",
      "0          141   2\n",
      "1            5  62)\n",
      "('\\nK-Nearest Neighbors - Test accuracy:', 0.967)\n",
      "('\\nK-Nearest Neighbors - Test Classification Report\\n', '             precision    recall  f1-score   support\\n\\n          0       0.97      0.99      0.98       143\\n          1       0.97      0.93      0.95        67\\n\\navg / total       0.97      0.97      0.97       210\\n')\n"
     ]
    },
    {
     "data": {
      "image/png": "[encoded data removed]",
      "text/plain": [
       "<matplotlib.figure.Figure at 0x7f413b684790>"
      ]
     },
     "metadata": {},
     "output_type": "display_data"
    }
   ],
   "source": [
    "# Tuning the K-values for Train and Test Data\n",
    "# Create a dummy array\n",
    "# Tuning of K- value for Train & Test data\n",
    "import matplotlib.pyplot as plt\n",
    "%matplotlib inline\n",
    "dummyarray = np.empty((5,3))\n",
    "k_valchart = pd.DataFrame(dummyarray)\n",
    "k_valchart.columns = [\"K_value\",\"Train_acc\",\"Test_acc\"]\n",
    "\n",
    "k_vals = [1,2,3,4,5]\n",
    "for i in range(len(k_vals)):\n",
    "    knn_fit = knn(n_neighbors=k_vals[i],p=2,metric='minkowski')\n",
    "    knn_fit.fit(x_train,y_train)\n",
    "\n",
    "    print (\"\\nK-value\",k_vals[i])\n",
    "    \n",
    "    tr_accscore = round(accuracy_score(y_train,knn_fit.predict(x_train)),3)\n",
    "    print (\"\\nK-Nearest Neighbors - Train Confusion Matrix\\n\\n\",pd.crosstab(y_train,knn_fit.predict(x_train),rownames = [\"Actuall\"],colnames = [\"Predicted\"]) )     \n",
    "    print (\"\\nK-Nearest Neighbors - Train accuracy:\",tr_accscore)\n",
    "    print (\"\\nK-Nearest Neighbors - Train Classification Report\\n\",classification_report(y_train,knn_fit.predict(x_train)))\n",
    "\n",
    "    ts_accscore = round(accuracy_score(y_test,knn_fit.predict(x_test)),3)    \n",
    "    print (\"\\n\\nK-Nearest Neighbors - Test Confusion Matrix\\n\\n\",pd.crosstab(y_test,knn_fit.predict(x_test),rownames = [\"Actuall\"],colnames = [\"Predicted\"]))      \n",
    "    print (\"\\nK-Nearest Neighbors - Test accuracy:\",ts_accscore)\n",
    "    print (\"\\nK-Nearest Neighbors - Test Classification Report\\n\",classification_report(y_test,knn_fit.predict(x_test)))\n",
    "    \n",
    "    k_valchart.loc[i, 'K_value'] = k_vals[i]      \n",
    "    k_valchart.loc[i, 'Train_acc'] = tr_accscore     \n",
    "    k_valchart.loc[i, 'Test_acc'] = ts_accscore               \n",
    "\n",
    "\n",
    "# Ploting accuracies over varied K-values\n",
    "import matplotlib.pyplot as plt\n",
    "plt.figure()\n",
    "#plt.title('KNN Train & Test Accuracy change with K-value')\n",
    "\n",
    "plt.xlabel('K-value')\n",
    "plt.ylabel('Accuracy')\n",
    "plt.plot(k_valchart[\"K_value\"],k_valchart[\"Train_acc\"])\n",
    "plt.plot(k_valchart[\"K_value\"],k_valchart[\"Test_acc\"])\n",
    "\n",
    "plt.axis([0.9,5, 0.92, 1.005])\n",
    "plt.xticks([1,2,3,4,5])\n",
    "\n",
    "for a,b in zip(k_valchart[\"K_value\"],k_valchart[\"Train_acc\"]):\n",
    "    plt.text(a, b, str(b),fontsize=10)\n",
    "\n",
    "for a,b in zip(k_valchart[\"K_value\"],k_valchart[\"Test_acc\"]):\n",
    "    plt.text(a, b, str(b),fontsize=10)\n",
    "    \n",
    "plt.legend(loc='upper right')    \n",
    "\n",
    "plt.show()"
   ]
  },
  {
   "cell_type": "markdown",
   "metadata": {},
   "source": [
    "# Application of PCA"
   ]
  },
  {
   "cell_type": "code",
   "execution_count": 32,
   "metadata": {
    "collapsed": false
   },
   "outputs": [
    {
     "name": "stdout",
     "output_type": "stream",
     "text": [
      "('Class Labels', array([1, 2, 3]))\n"
     ]
    },
    {
     "data": {
      "text/html": [
       "<div>\n",
       "<table border=\"1\" class=\"dataframe\">\n",
       "  <thead>\n",
       "    <tr style=\"text-align: right;\">\n",
       "      <th></th>\n",
       "      <th>Class label</th>\n",
       "      <th>Alcohol</th>\n",
       "      <th>Malic acid</th>\n",
       "      <th>Ash</th>\n",
       "      <th>Alcalinity of ash</th>\n",
       "      <th>Magnesium</th>\n",
       "      <th>Total phenols</th>\n",
       "      <th>Flavanoids</th>\n",
       "      <th>Nonflavanoid phenols</th>\n",
       "      <th>Proanthocyanins</th>\n",
       "      <th>Color intensity</th>\n",
       "      <th>Hue</th>\n",
       "      <th>OD280/OD315 of diluted wines</th>\n",
       "      <th>Proline</th>\n",
       "    </tr>\n",
       "  </thead>\n",
       "  <tbody>\n",
       "    <tr>\n",
       "      <th>0</th>\n",
       "      <td>1</td>\n",
       "      <td>14.23</td>\n",
       "      <td>1.71</td>\n",
       "      <td>2.43</td>\n",
       "      <td>15.6</td>\n",
       "      <td>127</td>\n",
       "      <td>2.80</td>\n",
       "      <td>3.06</td>\n",
       "      <td>0.28</td>\n",
       "      <td>2.29</td>\n",
       "      <td>5.64</td>\n",
       "      <td>1.04</td>\n",
       "      <td>3.92</td>\n",
       "      <td>1065</td>\n",
       "    </tr>\n",
       "    <tr>\n",
       "      <th>1</th>\n",
       "      <td>1</td>\n",
       "      <td>13.20</td>\n",
       "      <td>1.78</td>\n",
       "      <td>2.14</td>\n",
       "      <td>11.2</td>\n",
       "      <td>100</td>\n",
       "      <td>2.65</td>\n",
       "      <td>2.76</td>\n",
       "      <td>0.26</td>\n",
       "      <td>1.28</td>\n",
       "      <td>4.38</td>\n",
       "      <td>1.05</td>\n",
       "      <td>3.40</td>\n",
       "      <td>1050</td>\n",
       "    </tr>\n",
       "    <tr>\n",
       "      <th>2</th>\n",
       "      <td>1</td>\n",
       "      <td>13.16</td>\n",
       "      <td>2.36</td>\n",
       "      <td>2.67</td>\n",
       "      <td>18.6</td>\n",
       "      <td>101</td>\n",
       "      <td>2.80</td>\n",
       "      <td>3.24</td>\n",
       "      <td>0.30</td>\n",
       "      <td>2.81</td>\n",
       "      <td>5.68</td>\n",
       "      <td>1.03</td>\n",
       "      <td>3.17</td>\n",
       "      <td>1185</td>\n",
       "    </tr>\n",
       "    <tr>\n",
       "      <th>3</th>\n",
       "      <td>1</td>\n",
       "      <td>14.37</td>\n",
       "      <td>1.95</td>\n",
       "      <td>2.50</td>\n",
       "      <td>16.8</td>\n",
       "      <td>113</td>\n",
       "      <td>3.85</td>\n",
       "      <td>3.49</td>\n",
       "      <td>0.24</td>\n",
       "      <td>2.18</td>\n",
       "      <td>7.80</td>\n",
       "      <td>0.86</td>\n",
       "      <td>3.45</td>\n",
       "      <td>1480</td>\n",
       "    </tr>\n",
       "    <tr>\n",
       "      <th>4</th>\n",
       "      <td>1</td>\n",
       "      <td>13.24</td>\n",
       "      <td>2.59</td>\n",
       "      <td>2.87</td>\n",
       "      <td>21.0</td>\n",
       "      <td>118</td>\n",
       "      <td>2.80</td>\n",
       "      <td>2.69</td>\n",
       "      <td>0.39</td>\n",
       "      <td>1.82</td>\n",
       "      <td>4.32</td>\n",
       "      <td>1.04</td>\n",
       "      <td>2.93</td>\n",
       "      <td>735</td>\n",
       "    </tr>\n",
       "  </tbody>\n",
       "</table>\n",
       "</div>"
      ],
      "text/plain": [
       "   Class label  Alcohol  Malic acid   Ash  Alcalinity of ash  Magnesium  \\\n",
       "0            1    14.23        1.71  2.43               15.6        127   \n",
       "1            1    13.20        1.78  2.14               11.2        100   \n",
       "2            1    13.16        2.36  2.67               18.6        101   \n",
       "3            1    14.37        1.95  2.50               16.8        113   \n",
       "4            1    13.24        2.59  2.87               21.0        118   \n",
       "\n",
       "   Total phenols  Flavanoids  Nonflavanoid phenols  Proanthocyanins  \\\n",
       "0           2.80        3.06                  0.28             2.29   \n",
       "1           2.65        2.76                  0.26             1.28   \n",
       "2           2.80        3.24                  0.30             2.81   \n",
       "3           3.85        3.49                  0.24             2.18   \n",
       "4           2.80        2.69                  0.39             1.82   \n",
       "\n",
       "   Color intensity   Hue  OD280/OD315 of diluted wines  Proline  \n",
       "0             5.64  1.04                          3.92     1065  \n",
       "1             4.38  1.05                          3.40     1050  \n",
       "2             5.68  1.03                          3.17     1185  \n",
       "3             7.80  0.86                          3.45     1480  \n",
       "4             4.32  1.04                          2.93      735  "
      ]
     },
     "execution_count": 32,
     "metadata": {},
     "output_type": "execute_result"
    }
   ],
   "source": [
    "#Application of PCA\n",
    "# Importing the Data\n",
    "import pandas as pd\n",
    "import numpy as np\n",
    "df_wine=pd.read_csv('wine_data.csv',header=None)\n",
    "df_wine.columns = ['Class label', 'Alcohol', 'Malic acid', 'Ash', \n",
    "'Alcalinity of ash', 'Magnesium', 'Total phenols', \n",
    "'Flavanoids', 'Nonflavanoid phenols', 'Proanthocyanins', \n",
    "'Color intensity', 'Hue', 'OD280/OD315 of diluted wines', 'Proline']\n",
    "#In order to print unique class label values\n",
    "print('Class Labels',np.unique(df_wine['Class label']))\n",
    "df_wine.head()"
   ]
  },
  {
   "cell_type": "code",
   "execution_count": 33,
   "metadata": {
    "collapsed": false
   },
   "outputs": [
    {
     "data": {
      "text/plain": [
       "array([1, 3, 2, 1, 2, 2, 1, 3, 2, 2, 3, 3, 1, 2, 3, 2, 1, 1, 2, 1, 2, 1, 1,\n",
       "       2, 2, 2, 2, 2, 2, 3, 1, 1, 2, 1, 1, 1, 3, 2, 2, 3, 1, 1, 2, 2, 2, 1,\n",
       "       3, 2, 3, 1, 3, 3, 1, 3])"
      ]
     },
     "execution_count": 33,
     "metadata": {},
     "output_type": "execute_result"
    }
   ],
   "source": [
    "#Split the data into Train and Test\n",
    "from sklearn.cross_validation import train_test_split\n",
    "from sklearn.preprocessing import StandardScaler\n",
    "X,y=df_wine.iloc[:,1:].values,df_wine.iloc[:,0].values\n",
    "X_train,X_test,y_train,y_test=\\\n",
    "            train_test_split(X,y,test_size=0.3,random_state=0)\n",
    "sc=StandardScaler()\n",
    "X_train_std=sc.fit_transform(X_train)\n",
    "X_test_std=sc.transform(X_test)\n",
    "y_train\n",
    "y_test"
   ]
  },
  {
   "cell_type": "code",
   "execution_count": 34,
   "metadata": {
    "collapsed": false
   },
   "outputs": [
    {
     "name": "stdout",
     "output_type": "stream",
     "text": [
      "\n",
      "Eigenvalues \n",
      "[ 4.8923  2.4664  1.4281  1.0123  0.8491  0.6018  0.5225  0.0841  0.3305\n",
      "  0.296   0.1683  0.2143  0.24  ]\n",
      "\n",
      "Eigenvectors \n",
      "[[  1.4670e-01   5.0417e-01  -1.1724e-01   2.0625e-01  -1.8782e-01\n",
      "   -1.4885e-01  -1.7926e-01  -5.5469e-02  -4.0305e-01  -4.1720e-01\n",
      "    2.7566e-01   4.0357e-01   4.1332e-04]\n",
      " [ -2.4225e-01   2.4217e-01   1.4995e-01   1.3049e-01   5.6864e-01\n",
      "   -2.6905e-01  -5.9264e-01   3.3273e-02  -1.0183e-01   2.1710e-01\n",
      "   -8.1385e-02  -1.5247e-01  -8.7856e-02]\n",
      " [ -2.9934e-02   2.8698e-01   6.5639e-01   1.5154e-02  -2.9921e-01\n",
      "   -9.3339e-02   6.0733e-02  -1.0062e-01   3.5184e-01   1.2855e-01\n",
      "   -1.2975e-02   1.6838e-01  -4.5252e-01]\n",
      " [ -2.5519e-01  -6.4687e-02   5.8428e-01  -9.0422e-02  -4.1250e-02\n",
      "   -1.0134e-01   2.5032e-01   5.6166e-02  -5.0046e-01   4.7334e-02\n",
      "    9.8909e-02  -6.7090e-02   4.8617e-01]\n",
      " [  1.2080e-01   2.2995e-01   8.2263e-02  -8.3913e-01  -2.7197e-02\n",
      "    1.1257e-01  -2.8524e-01   9.5842e-02   8.3739e-02  -2.7892e-01\n",
      "   -9.5930e-02  -1.0240e-01   1.1476e-01]\n",
      " [  3.8934e-01   9.3640e-02   1.8080e-01   1.9318e-01   1.4065e-01\n",
      "    1.2225e-02   5.3146e-02  -4.2127e-01   1.3511e-01  -2.8099e-01\n",
      "    2.8390e-01  -6.1860e-01   9.4565e-02]\n",
      " [  4.2326e-01   1.0886e-02   1.4296e-01   1.4046e-01   9.2687e-02\n",
      "   -5.5035e-02   7.9899e-02   8.4722e-01   3.3602e-03  -3.9144e-02\n",
      "    1.1673e-01  -1.3968e-01  -1.0044e-01]\n",
      " [ -3.0635e-01   1.8702e-02   1.7223e-01   3.3733e-01  -8.5842e-02\n",
      "    6.9534e-01  -2.9737e-01   1.6626e-01   1.9012e-01  -2.7862e-01\n",
      "   -3.9657e-02   1.6332e-03   2.0013e-01]\n",
      " [  3.0572e-01   3.0404e-02   1.5836e-01  -1.1475e-01   5.6511e-01\n",
      "    4.9835e-01   2.0252e-01  -1.6620e-01  -1.7603e-01   1.4854e-01\n",
      "    8.6060e-02   3.8857e-01  -1.3994e-01]\n",
      " [ -9.8692e-02   5.4527e-01  -1.4242e-01   7.8786e-02   1.3235e-02\n",
      "    1.5945e-01   3.9736e-01   3.9617e-02  -2.1493e-01  -4.1024e-03\n",
      "   -5.7165e-01  -3.0835e-01  -1.1535e-01]\n",
      " [  3.0033e-01  -2.7924e-01   9.3239e-02   2.4174e-02  -3.7261e-01\n",
      "    2.1652e-01  -3.8465e-01  -1.0538e-01  -5.1726e-01   1.9781e-01\n",
      "   -1.9884e-01  -2.0046e-01  -3.0225e-01]\n",
      " [  3.6821e-01  -1.7436e-01   1.9608e-01   1.8403e-01   8.9380e-02\n",
      "   -2.3517e-01  -8.6290e-02  -9.9506e-02   1.3646e-01  -2.3814e-01\n",
      "   -6.5087e-01   2.8410e-01   3.1841e-01]\n",
      " [  2.9260e-01   3.6315e-01  -9.7317e-02   5.6768e-02  -2.1753e-01\n",
      "    1.0562e-01  -1.3030e-01  -1.6066e-02   1.6776e-01   6.3735e-01\n",
      "    7.1238e-02   3.7555e-02   5.0325e-01]]\n"
     ]
    }
   ],
   "source": [
    "import numpy as np\n",
    "cov_mat=np.cov(X_train_std.T)\n",
    "eigen_vals,eigen_vecs=np.linalg.eig(cov_mat)\n",
    "print('\\nEigenvalues \\n%s' % eigen_vals)\n",
    "print('\\nEigenvectors \\n%s' % eigen_vecs)\n",
    "# Now, let's obtain the eigenpairs of the covariance matrix. As we surely remember\n",
    "# from our introductory linear algebra or calculus classes, an eigenvalue v satisfies\n",
    "# the following condition:\n",
    "# V = Lambda(v)\n",
    "# Here, Lambda is a scalar: the eigenvalue. Since the manual computation of eigenvectors\n",
    "# and eigenvalues is a somewhat tedious and elaborate task, we will use the\n",
    "# linalg.eig function from NumPy to obtain the eigenpairs of the Wine\n",
    "# covariance matrix:"
   ]
  },
  {
   "cell_type": "code",
   "execution_count": 35,
   "metadata": {
    "collapsed": false
   },
   "outputs": [
    {
     "data": {
      "image/png": "[encoded data removed]",
      "text/plain": [
       "<matplotlib.figure.Figure at 0x7f417b15c510>"
      ]
     },
     "metadata": {},
     "output_type": "display_data"
    }
   ],
   "source": [
    "#Getting the Variance Explained Ratio for various eigen values\n",
    "tot=sum(eigen_vals)\n",
    "var_exp=[(i/tot) for i in sorted(eigen_vals,reverse=True)]\n",
    "cum_var_exp=np.cumsum(var_exp)\n",
    "import matplotlib.pyplot as plt\n",
    "%matplotlib inline\n",
    "\n",
    "plt.bar(range(1, 14), var_exp, alpha=0.5, align='center',\n",
    "        label='individual explained variance')\n",
    "plt.step(range(1, 14), cum_var_exp, where='mid',\n",
    "         label='cumulative explained variance')\n",
    "plt.ylabel('Explained variance ratio')\n",
    "plt.xlabel('Principal components')\n",
    "plt.legend(loc='best')\n",
    "plt.tight_layout()\n",
    "# plt.savefig('./figures/pca1.png', dpi=300)\n",
    "plt.show()\n",
    "# The resulting plot indicates that the first principal component alone accounts for\n",
    "# 40 percent of the variance. Also, we can see that the first two principal components\n",
    "# combined explain almost 60 percent of the variance in the data:"
   ]
  },
  {
   "cell_type": "code",
   "execution_count": 36,
   "metadata": {
    "collapsed": false
   },
   "outputs": [
    {
     "name": "stdout",
     "output_type": "stream",
     "text": [
      "('Matrix W:\\n', array([[ 0.1467,  0.5042],\n",
      "       [-0.2422,  0.2422],\n",
      "       [-0.0299,  0.287 ],\n",
      "       [-0.2552, -0.0647],\n",
      "       [ 0.1208,  0.23  ],\n",
      "       [ 0.3893,  0.0936],\n",
      "       [ 0.4233,  0.0109],\n",
      "       [-0.3063,  0.0187],\n",
      "       [ 0.3057,  0.0304],\n",
      "       [-0.0987,  0.5453],\n",
      "       [ 0.3003, -0.2792],\n",
      "       [ 0.3682, -0.1744],\n",
      "       [ 0.2926,  0.3632]]))\n"
     ]
    }
   ],
   "source": [
    "# Feature Transformations\n",
    "# We start by sorting the eigenpairs by decreasing order of the eigenvalues:\n",
    "eigen_pairs=[(np.abs(eigen_vals[i]),eigen_vecs[:,i]) for i in range(len(eigen_vals))]\n",
    "eigen_pairs.sort(reverse=True)\n",
    "# Next, we collect the two eigenvectors that correspond to the two largest values to\n",
    "# capture about 60 percent of the variance in this dataset. Note that we only chose two\n",
    "# eigenvectors for the purpose of illustration, since we are going to plot the data via\n",
    "# a two-dimensional scatter plot later in this subsection. In practice, the number of\n",
    "# principal components has to be determined from a trade-off between computational\n",
    "# efficiency and the performance of the classifier:\n",
    "w = np.hstack((eigen_pairs[0][1][:, np.newaxis],\n",
    "               eigen_pairs[1][1][:, np.newaxis]))\n",
    "print('Matrix W:\\n', w)"
   ]
  },
  {
   "cell_type": "code",
   "execution_count": 37,
   "metadata": {
    "collapsed": false
   },
   "outputs": [
    {
     "name": "stdout",
     "output_type": "stream",
     "text": [
      "[[ 2.5989  0.0048]\n",
      " [ 0.1582 -2.2666]\n",
      " [-2.6372  2.6649]\n",
      " [-2.5285  0.5185]\n",
      " [ 1.7092 -0.9172]\n",
      " [-2.8306  0.4194]\n",
      " [-2.8225  1.9976]\n",
      " [ 1.3662  0.0464]\n",
      " [-2.4658 -0.0793]\n",
      " [-2.2855 -0.401 ]\n",
      " [ 1.1425 -2.3959]\n",
      " [-2.285  -1.0927]\n",
      " [-2.5292  0.6477]\n",
      " [ 0.1692 -1.1265]\n",
      " [ 2.5309  1.058 ]\n",
      " [-0.716  -2.8037]\n",
      " [ 2.4692 -0.1587]\n",
      " [-0.5804 -0.6929]\n",
      " [ 0.5458  0.4104]\n",
      " [ 3.5605  1.4256]\n",
      " [ 1.5868 -1.5126]\n",
      " [ 2.5487 -0.0528]\n",
      " [-3.5934  0.8832]\n",
      " [-1.6041  2.4037]\n",
      " [ 1.4867 -1.4086]\n",
      " [ 0.0083 -2.049 ]\n",
      " [-0.1565 -2.8028]\n",
      " [-2.3986  2.4752]\n",
      " [-3.1355 -0.2942]\n",
      " [ 3.3022  0.4094]\n",
      " [-3.5307  1.7997]\n",
      " [-0.4557 -2.6124]\n",
      " [-0.5884 -1.983 ]\n",
      " [-1.1664 -0.8378]\n",
      " [ 1.0376 -1.3776]\n",
      " [ 1.9589 -1.6258]\n",
      " [ 2.7699  1.8607]\n",
      " [ 2.0615  1.3228]\n",
      " [ 0.8411 -2.0089]\n",
      " [ 3.5252  1.4188]\n",
      " [-3.825   0.1174]\n",
      " [ 1.7043 -0.4627]\n",
      " [-3.4448  0.8979]\n",
      " [ 3.1412  0.8025]\n",
      " [ 2.3415  1.6999]\n",
      " [ 1.2516 -0.9131]\n",
      " [ 3.5785  1.7815]\n",
      " [ 0.9305 -2.2675]\n",
      " [ 0.5046 -1.9619]\n",
      " [ 3.8225  2.8815]\n",
      " [-2.3762  2.1548]\n",
      " [-1.5552 -1.3843]\n",
      " [ 2.5113  1.3336]\n",
      " [-0.73   -0.2181]\n",
      " [-0.7718 -2.3936]\n",
      " [ 0.8458 -1.5146]\n",
      " [-1.2652  0.0498]\n",
      " [ 2.209   0.8572]\n",
      " [-3.8908  0.5419]\n",
      " [-1.8063  1.3161]\n",
      " [ 4.3718  2.3359]\n",
      " [ 3.3113  1.4323]\n",
      " [-1.5383 -1.9287]\n",
      " [-2.7226  2.1532]\n",
      " [ 2.8173  1.381 ]\n",
      " [ 1.8517  0.7491]\n",
      " [-0.4502 -2.1623]\n",
      " [-0.1055 -1.2008]\n",
      " [ 1.9635  0.2156]\n",
      " [ 2.235   1.2968]\n",
      " [ 0.8106  0.3297]\n",
      " [-3.2895  2.2458]\n",
      " [ 0.9254 -0.7623]\n",
      " [ 2.3186 -0.1295]\n",
      " [ 0.7986 -1.4213]\n",
      " [-2.2774  0.5502]\n",
      " [ 3.1473  1.3115]\n",
      " [-1.7327 -1.7786]\n",
      " [-2.8518  0.1573]\n",
      " [-2.6828  0.3328]\n",
      " [ 1.9344  1.6157]\n",
      " [ 1.6194 -0.632 ]\n",
      " [-2.0437  0.3139]\n",
      " [ 2.2552  1.8931]\n",
      " [-2.3282  0.1861]\n",
      " [-0.4144 -1.9888]\n",
      " [ 1.4471  0.6667]\n",
      " [ 2.1985  0.69  ]\n",
      " [-0.4226 -1.944 ]\n",
      " [ 2.7621  1.5454]\n",
      " [-2.8454  1.9425]\n",
      " [-1.5916 -1.4152]\n",
      " [-3.356   1.1413]\n",
      " [ 1.6783  0.1082]\n",
      " [-2.9415  0.3885]\n",
      " [-2.3041  2.1503]\n",
      " [-3.4929  1.2924]\n",
      " [ 2.3353  0.3436]\n",
      " [ 1.4622 -2.0526]\n",
      " [-0.4312 -2.4049]\n",
      " [ 0.4226 -1.0554]\n",
      " [ 0.5266 -3.8721]\n",
      " [-2.728   1.5831]\n",
      " [-3.1787  2.7119]\n",
      " [-0.6216 -1.0446]\n",
      " [-1.4044 -1.4763]\n",
      " [ 0.9117  0.6548]\n",
      " [ 1.1242 -1.3465]\n",
      " [-2.8455  1.3273]\n",
      " [-2.3634  2.4316]\n",
      " [ 2.5458  1.852 ]\n",
      " [ 3.2154  1.8414]\n",
      " [-2.747   0.1954]\n",
      " [-1.0519 -1.8346]\n",
      " [-1.5083 -0.9916]\n",
      " [-0.5347 -2.5058]\n",
      " [ 1.4006  0.6611]\n",
      " [ 1.1079  0.2458]\n",
      " [ 2.8349  0.9581]\n",
      " [-0.5277 -2.5947]\n",
      " [ 0.3113 -2.2868]\n",
      " [-0.0653 -2.0436]\n",
      " [ 2.9184  0.8204]\n",
      " [-2.4072  2.2361]]\n"
     ]
    }
   ],
   "source": [
    "# By executing the preceding code, we have created a 13× 2 -dimensional projection\n",
    "# matrix W from the top two eigenvectors. Using the projection matrix, we can now\n",
    "# transform a sample x (represented as 1×13-dimensional row vector) onto the PCA\n",
    "# subspace obtaining x\u001f , a now two-dimensional sample vector consisting of two\n",
    "# new features:\n",
    "X_train_std[0].dot(w)\n",
    "# Similarly, we can transform the entire 124×13-dimensional training dataset onto the\n",
    "# two principal components by calculating the matrix dot product:\n",
    "X_train_pca=X_train_std.dot(w)\n",
    "print X_train_pca"
   ]
  },
  {
   "cell_type": "code",
   "execution_count": 38,
   "metadata": {
    "collapsed": false
   },
   "outputs": [
    {
     "data": {
      "image/png": "[encoded data removed]",
      "text/plain": [
       "<matplotlib.figure.Figure at 0x7f41443c4790>"
      ]
     },
     "metadata": {},
     "output_type": "display_data"
    }
   ],
   "source": [
    "# Lastly, let's visualize the transformed Wine training set, now stored as an\n",
    "# 124× 2 -dimensional matrix, in a two-dimensional scatterplot:\n",
    "colors = ['r', 'b', 'g']\n",
    "markers = ['s', 'x', 'o']\n",
    "\n",
    "for l, c, m in zip(np.unique(y_train), colors, markers):\n",
    "    plt.scatter(X_train_pca[y_train==l, 0], \n",
    "                X_train_pca[y_train==l, 1], \n",
    "                c=c, label=l, marker=m)\n",
    "\n",
    "plt.xlabel('PC 1')\n",
    "plt.ylabel('PC 2')\n",
    "plt.legend(loc='lower left')\n",
    "plt.tight_layout()\n",
    "# plt.savefig('./figures/pca2.png', dpi=300)\n",
    "plt.show()"
   ]
  },
  {
   "cell_type": "markdown",
   "metadata": {},
   "source": [
    "# PCA through SKLEARN"
   ]
  },
  {
   "cell_type": "code",
   "execution_count": 39,
   "metadata": {
    "collapsed": false
   },
   "outputs": [
    {
     "data": {
      "text/plain": [
       "array([ 0.3733,  0.1882,  0.109 ,  0.0772,  0.0648,  0.0459,  0.0399,\n",
       "        0.0252,  0.0226,  0.0183,  0.0164,  0.0128,  0.0064])"
      ]
     },
     "execution_count": 39,
     "metadata": {},
     "output_type": "execute_result"
    }
   ],
   "source": [
    "from sklearn.decomposition import PCA\n",
    "pca=PCA()\n",
    "X_train_pca=pca.fit_transform(X_train_std)\n",
    "pca.explained_variance_ratio_"
   ]
  },
  {
   "cell_type": "code",
   "execution_count": 40,
   "metadata": {
    "collapsed": false
   },
   "outputs": [
    {
     "data": {
      "image/png": "[encoded data removed]",
      "text/plain": [
       "<matplotlib.figure.Figure at 0x7f4139408610>"
      ]
     },
     "metadata": {},
     "output_type": "display_data"
    }
   ],
   "source": [
    "plt.bar(range(1, 14), pca.explained_variance_ratio_, alpha=0.5, align='center')\n",
    "plt.step(range(1, 14), np.cumsum(pca.explained_variance_ratio_), where='mid')\n",
    "plt.ylabel('Explained variance ratio')\n",
    "plt.xlabel('Principal components')\n",
    "plt.show()"
   ]
  },
  {
   "cell_type": "code",
   "execution_count": 41,
   "metadata": {
    "collapsed": false
   },
   "outputs": [
    {
     "data": {
      "image/png": "[encoded data removed]",
      "text/plain": [
       "<matplotlib.figure.Figure at 0x7f4146d0b890>"
      ]
     },
     "metadata": {},
     "output_type": "display_data"
    }
   ],
   "source": [
    "pca = PCA(n_components=2)\n",
    "X_train_pca = pca.fit_transform(X_train_std)\n",
    "X_test_pca = pca.transform(X_test_std)\n",
    "plt.scatter(X_train_pca[:,0], X_train_pca[:,1])\n",
    "plt.xlabel('PC 1')\n",
    "plt.ylabel('PC 2')\n",
    "plt.show()"
   ]
  },
  {
   "cell_type": "code",
   "execution_count": 42,
   "metadata": {
    "collapsed": true
   },
   "outputs": [],
   "source": [
    "from matplotlib.colors import ListedColormap\n",
    "\n",
    "def plot_decision_regions(X, y, classifier, resolution=0.02):\n",
    "\n",
    "    # setup marker generator and color map\n",
    "    markers = ('s', 'x', 'o', '^', 'v')\n",
    "    colors = ('red', 'blue', 'lightgreen', 'gray', 'cyan')\n",
    "    cmap = ListedColormap(colors[:len(np.unique(y))])\n",
    "\n",
    "    # plot the decision surface\n",
    "    x1_min, x1_max = X[:, 0].min() - 1, X[:, 0].max() + 1\n",
    "    x2_min, x2_max = X[:, 1].min() - 1, X[:, 1].max() + 1\n",
    "    xx1, xx2 = np.meshgrid(np.arange(x1_min, x1_max, resolution),\n",
    "                         np.arange(x2_min, x2_max, resolution))\n",
    "    Z = classifier.predict(np.array([xx1.ravel(), xx2.ravel()]).T)\n",
    "    Z = Z.reshape(xx1.shape)\n",
    "    plt.contourf(xx1, xx2, Z, alpha=0.4, cmap=cmap)\n",
    "    plt.xlim(xx1.min(), xx1.max())\n",
    "    plt.ylim(xx2.min(), xx2.max())\n",
    "\n",
    "    # plot class samples\n",
    "    for idx, cl in enumerate(np.unique(y)):\n",
    "        plt.scatter(x=X[y == cl, 0], y=X[y == cl, 1],\n",
    "                    alpha=0.8, c=cmap(idx),\n",
    "                    marker=markers[idx], label=cl)"
   ]
  },
  {
   "cell_type": "code",
   "execution_count": 43,
   "metadata": {
    "collapsed": false
   },
   "outputs": [
    {
     "data": {
      "image/png": "[encoded data removed]",
      "text/plain": [
       "<matplotlib.figure.Figure at 0x7f41380be6d0>"
      ]
     },
     "metadata": {},
     "output_type": "display_data"
    }
   ],
   "source": [
    "# Training logistic regression classifier using the first 2 principal components\n",
    "from sklearn.linear_model import LogisticRegression\n",
    "\n",
    "lr = LogisticRegression()\n",
    "lr = lr.fit(X_train_pca, y_train)\n",
    "plot_decision_regions(X_train_pca, y_train, classifier=lr)\n",
    "plt.xlabel('PC 1')\n",
    "plt.ylabel('PC 2')\n",
    "plt.legend(loc='lower left')\n",
    "plt.tight_layout()\n",
    "# plt.savefig('./figures/pca3.png', dpi=300)\n",
    "plt.show()"
   ]
  },
  {
   "cell_type": "code",
   "execution_count": 44,
   "metadata": {
    "collapsed": false
   },
   "outputs": [
    {
     "data": {
      "image/png": "[encoded data removed]",
      "text/plain": [
       "<matplotlib.figure.Figure at 0x7f4138031990>"
      ]
     },
     "metadata": {},
     "output_type": "display_data"
    }
   ],
   "source": [
    "plot_decision_regions(X_test_pca, y_test, classifier=lr)\n",
    "plt.xlabel('PC 1')\n",
    "plt.ylabel('PC 2')\n",
    "plt.legend(loc='lower left')\n",
    "plt.tight_layout()\n",
    "# plt.savefig('./figures/pca4.png', dpi=300)\n",
    "plt.show()"
   ]
  },
  {
   "cell_type": "code",
   "execution_count": 45,
   "metadata": {
    "collapsed": false
   },
   "outputs": [
    {
     "data": {
      "text/plain": [
       "array([1, 2, 3, 3, 2, 3, 3, 1, 2, 3, 2, 2, 3, 2, 1, 2, 2, 2, 1, 1, 2, 2, 3,\n",
       "       3, 2, 2, 2, 3, 3, 1, 3, 2, 2, 2, 2, 2, 1, 1, 2, 1, 3, 1, 3, 1, 1, 2,\n",
       "       1, 2, 2, 1, 3, 2, 1, 2, 2, 2, 3, 1, 3, 3, 1, 1, 2, 3, 1, 1, 2, 2, 1,\n",
       "       1, 1, 3, 2, 1, 2, 3, 1, 2, 3, 3, 1, 1, 3, 1, 3, 2, 1, 1, 2, 1, 3, 2,\n",
       "       3, 1, 3, 3, 3, 1, 2, 2, 2, 2, 3, 3, 2, 2, 1, 2, 3, 3, 1, 1, 3, 2, 2,\n",
       "       2, 1, 1, 1, 2, 2, 2, 1, 3])"
      ]
     },
     "execution_count": 45,
     "metadata": {},
     "output_type": "execute_result"
    }
   ],
   "source": [
    "pca = PCA(n_components=None)\n",
    "X_train_pca = pca.fit_transform(X_train_std)\n",
    "pca.explained_variance_ratio_\n",
    "y_train\n",
    "# Note that we set n_components=None when we initialized the PCA class so that\n",
    "# it would return all principal components in sorted order instead of performing a\n",
    "# dimensionality reduction."
   ]
  },
  {
   "cell_type": "markdown",
   "metadata": {},
   "source": [
    "# Supervised data compression via linear discriminant analysis"
   ]
  },
  {
   "cell_type": "code",
   "execution_count": 47,
   "metadata": {
    "collapsed": false
   },
   "outputs": [
    {
     "name": "stdout",
     "output_type": "stream",
     "text": [
      "MV 1: [ 0.9259 -0.3091  0.2592 -0.7989  0.3039  0.9608  1.0515 -0.6306  0.5354\n",
      "  0.2209  0.4855  0.798   1.2017]\n",
      "\n",
      "MV 2: [-0.8727 -0.3854 -0.4437  0.2481 -0.2409 -0.1059  0.0187 -0.0164  0.1095\n",
      " -0.8796  0.4392  0.2776 -0.7016]\n",
      "\n",
      "MV 3: [ 0.1637  0.8929  0.3249  0.5658 -0.01   -0.9499 -1.228   0.7436 -0.7652\n",
      "  0.979  -1.1698 -1.3007 -0.3912]\n",
      "\n"
     ]
    }
   ],
   "source": [
    "np.set_printoptions(precision=4) #print numeric value upto 4 decimal place\n",
    "mean_vecs=[]\n",
    "for label in range(1,4):\n",
    "    mean_vecs.append(np.mean(X_train_std[y_train==label],axis=0))\n",
    "    print('MV %s: %s\\n' %(label, mean_vecs[label-1]))"
   ]
  },
  {
   "cell_type": "code",
   "execution_count": 49,
   "metadata": {
    "collapsed": false
   },
   "outputs": [
    {
     "name": "stdout",
     "output_type": "stream",
     "text": [
      "Within-class scatter matrix: 13x13\n",
      "Class label distribution: [40 49 35]\n"
     ]
    }
   ],
   "source": [
    "d=13#Number of features\n",
    "S_W=np.zeros((d,d))\n",
    "for label,mv in zip(range(1,4),mean_vecs):\n",
    "    class_scatter=np.zeros((d,d))\n",
    "    for row in X[y==label]:\n",
    "        row,mv=row.reshape(d,1),mv.reshape(d,1)\n",
    "        class_scatter +=(row-mv).dot((row-mv).T)\n",
    "    S_W += class_scatter\n",
    "print('Within-class scatter matrix: %sx%s'% (S_W.shape[0], S_W.shape[1]))\n",
    "\n",
    "print('Class label distribution: %s' \n",
    "      % np.bincount(y_train)[1:])"
   ]
  },
  {
   "cell_type": "code",
   "execution_count": 50,
   "metadata": {
    "collapsed": false
   },
   "outputs": [
    {
     "name": "stdout",
     "output_type": "stream",
     "text": [
      "Scaled within-class scatter matrix: 13x13\n"
     ]
    }
   ],
   "source": [
    "d = 13 # number of features\n",
    "S_W = np.zeros((d, d))\n",
    "for label,mv in zip(range(1, 4), mean_vecs):\n",
    "    class_scatter = np.cov(X_train_std[y_train==label].T)\n",
    "    S_W += class_scatter\n",
    "print('Scaled within-class scatter matrix: %sx%s' % (S_W.shape[0], S_W.shape[1]))"
   ]
  },
  {
   "cell_type": "markdown",
   "metadata": {},
   "source": [
    "# Compute the between-class scatter matrix:"
   ]
  },
  {
   "cell_type": "code",
   "execution_count": 51,
   "metadata": {
    "collapsed": false
   },
   "outputs": [
    {
     "name": "stdout",
     "output_type": "stream",
     "text": [
      "Between-class scatter matrix: 13x13\n"
     ]
    }
   ],
   "source": [
    "mean_overall=np.mean(X_train_std,axis=0)\n",
    "d = 13 # number of features\n",
    "S_B = np.zeros((d, d))\n",
    "for i, mean_vec in enumerate(mean_vecs):\n",
    "    n=X[y==i+1,:].shape[0]\n",
    "    mean_vec=mean_vec.reshape(d,1)\n",
    "    mean_overall = mean_overall.reshape(d, 1) # make column vector\n",
    "    S_B += n * (mean_vec - mean_overall).dot((mean_vec - mean_overall).T)\n",
    "print('Between-class scatter matrix: %sx%s' % (S_B.shape[0], S_B.shape[1]))"
   ]
  },
  {
   "cell_type": "markdown",
   "metadata": {},
   "source": [
    "Selecting linear discriminants for the new feature subspace"
   ]
  },
  {
   "cell_type": "code",
   "execution_count": 52,
   "metadata": {
    "collapsed": false
   },
   "outputs": [
    {
     "name": "stdout",
     "output_type": "stream",
     "text": [
      "Eigenvalues in decreasing order:\n",
      "\n",
      "4.89230830327\n",
      "2.46635031576\n",
      "1.4280997275\n",
      "1.0123346209\n",
      "0.849064593345\n",
      "0.601815143423\n",
      "0.522515462064\n",
      "0.330514291731\n",
      "0.295950183659\n",
      "0.239955304779\n",
      "0.214322118699\n",
      "0.168312535041\n",
      "0.0841484567268\n"
     ]
    }
   ],
   "source": [
    "# Make a list of (eigenvalue, eigenvector) tuples\n",
    "eigen_pairs = [(np.abs(eigen_vals[i]), eigen_vecs[:,i]) for i in range(len(eigen_vals))]\n",
    "# Sort the (eigenvalue, eigenvector) tuples from high to low\n",
    "eigen_pairs = sorted(eigen_pairs, key=lambda k: k[0], reverse=True)\n",
    "\n",
    "# Visually confirm that the list is correctly sorted by decreasing eigenvalues\n",
    "\n",
    "print('Eigenvalues in decreasing order:\\n')\n",
    "for eigen_val in eigen_pairs:\n",
    "    print(eigen_val[0])"
   ]
  },
  {
   "cell_type": "code",
   "execution_count": 53,
   "metadata": {
    "collapsed": false
   },
   "outputs": [
    {
     "data": {
      "image/png": "[encoded data removed]",
      "text/plain": [
       "<matplotlib.figure.Figure at 0x7f41441b6e90>"
      ]
     },
     "metadata": {},
     "output_type": "display_data"
    }
   ],
   "source": [
    "tot = sum(eigen_vals.real)\n",
    "discr = [(i / tot) for i in sorted(eigen_vals.real, reverse=True)]\n",
    "cum_discr = np.cumsum(discr)\n",
    "\n",
    "plt.bar(range(1, 14), discr, alpha=0.5, align='center',\n",
    "        label='individual \"discriminability\"')\n",
    "plt.step(range(1, 14), cum_discr, where='mid',\n",
    "         label='cumulative \"discriminability\"')\n",
    "plt.ylabel('\"discriminability\" ratio')\n",
    "plt.xlabel('Linear Discriminants')\n",
    "plt.ylim([-0.1, 1.1])\n",
    "plt.legend(loc='best')\n",
    "plt.tight_layout()\n",
    "# plt.savefig('./figures/lda1.png', dpi=300)\n",
    "plt.show()"
   ]
  },
  {
   "cell_type": "code",
   "execution_count": 54,
   "metadata": {
    "collapsed": false
   },
   "outputs": [
    {
     "name": "stdout",
     "output_type": "stream",
     "text": [
      "('Matrix W:\\n', array([[ 0.1467,  0.5042],\n",
      "       [-0.2422,  0.2422],\n",
      "       [-0.0299,  0.287 ],\n",
      "       [-0.2552, -0.0647],\n",
      "       [ 0.1208,  0.23  ],\n",
      "       [ 0.3893,  0.0936],\n",
      "       [ 0.4233,  0.0109],\n",
      "       [-0.3063,  0.0187],\n",
      "       [ 0.3057,  0.0304],\n",
      "       [-0.0987,  0.5453],\n",
      "       [ 0.3003, -0.2792],\n",
      "       [ 0.3682, -0.1744],\n",
      "       [ 0.2926,  0.3632]]))\n"
     ]
    }
   ],
   "source": [
    "# Let's now stack the two most discriminative eigenvector columns to create the\n",
    "# transformation matrix W :\n",
    "w = np.hstack((eigen_pairs[0][1][:, np.newaxis].real,\n",
    "                      eigen_pairs[1][1][:, np.newaxis].real))\n",
    "print('Matrix W:\\n', w)"
   ]
  },
  {
   "cell_type": "markdown",
   "metadata": {},
   "source": [
    "# Projecting samples onto the new feature space"
   ]
  },
  {
   "cell_type": "code",
   "execution_count": 55,
   "metadata": {
    "collapsed": false
   },
   "outputs": [
    {
     "data": {
      "image/png": "[encoded data removed]",
      "text/plain": [
       "<matplotlib.figure.Figure at 0x7f4121209cd0>"
      ]
     },
     "metadata": {},
     "output_type": "display_data"
    }
   ],
   "source": [
    "# Using the transformation matrix W that we created in the previous subsection,\n",
    "# we can now transform the training data set by multiplying the matrices:\n",
    "X_train_lda=X_train_std.dot(w)\n",
    "colors = ['r', 'b', 'g']\n",
    "markers = ['s', 'x', 'o']\n",
    "for l, c, m in zip(np.unique(y_train), colors, markers):\n",
    "    plt.scatter(X_train_lda[y_train==l, 0],\n",
    "                X_train_lda[y_train==l, 1],\n",
    "                c=c, label=l, marker=m)\n",
    "plt.xlabel('LD 1')\n",
    "plt.ylabel('LD 2')\n",
    "plt.legend(loc='upper right')\n",
    "plt.show()"
   ]
  },
  {
   "cell_type": "markdown",
   "metadata": {},
   "source": [
    "# LDA via Sklearn"
   ]
  },
  {
   "cell_type": "code",
   "execution_count": 56,
   "metadata": {
    "collapsed": false
   },
   "outputs": [
    {
     "name": "stderr",
     "output_type": "stream",
     "text": [
      "/export/home/aaescore/anaconda2/lib/python2.7/site-packages/sklearn/lda.py:4: DeprecationWarning: lda.LDA has been moved to discriminant_analysis.LinearDiscriminantAnalysis in 0.17 and will be removed in 0.19\n",
      "  \"in 0.17 and will be removed in 0.19\", DeprecationWarning)\n"
     ]
    },
    {
     "data": {
      "image/png": "[encoded data removed]",
      "text/plain": [
       "<matplotlib.figure.Figure at 0x7f4121213f10>"
      ]
     },
     "metadata": {},
     "output_type": "display_data"
    }
   ],
   "source": [
    "# The step-by-step implementation was a good exercise for understanding the inner\n",
    "# workings of LDA and understanding the differences between LDA and PCA.\n",
    "# Now, let's take a look at the LDA class implemented in scikit-learn:\n",
    "from sklearn.lda import LDA\n",
    "lda=LDA(n_components=2)\n",
    "X_train_lda = lda.fit_transform(X_train_std, y_train)\n",
    "# Next, let's see how the logistic regression classifier handles the lower-dimensional\n",
    "# training dataset after the LDA transformation:\n",
    "lr=LogisticRegression()\n",
    "lr=lr.fit(X_train_lda,y_train)\n",
    "plot_decision_regions(X_train_lda, y_train, classifier=lr)\n",
    "plt.xlabel('LD 1')\n",
    "plt.ylabel('LD 2')\n",
    "plt.legend(loc='lower left')\n",
    "plt.show()"
   ]
  },
  {
   "cell_type": "code",
   "execution_count": 57,
   "metadata": {
    "collapsed": false
   },
   "outputs": [
    {
     "data": {
      "image/png": "[encoded data removed]",
      "text/plain": [
       "<matplotlib.figure.Figure at 0x7f4121122b50>"
      ]
     },
     "metadata": {},
     "output_type": "display_data"
    }
   ],
   "source": [
    "# Looking at the resulting plot, we see that the logistic regression model misclassifies\n",
    "# one of the samples from class 2:\n",
    "# By lowering the regularization strength, we could probably shift the decision\n",
    "# boundaries so that the logistic regression models classify all samples in the training\n",
    "# dataset correctly. However, let's take a look at the results on the test set:\n",
    "X_test_lda = lda.transform(X_test_std)\n",
    "plot_decision_regions(X_test_lda, y_test, classifier=lr)\n",
    "plt.xlabel('LD 1')\n",
    "plt.ylabel('LD 2')\n",
    "plt.legend(loc='lower left')\n",
    "plt.tight_layout()\n",
    "# plt.savefig('./images/lda4.png', dpi=300)\n",
    "plt.show()"
   ]
  },
  {
   "cell_type": "markdown",
   "metadata": {},
   "source": [
    "# Application of QDA"
   ]
  },
  {
   "cell_type": "code",
   "execution_count": null,
   "metadata": {
    "collapsed": true
   },
   "outputs": [],
   "source": []
  }
 ],
 "metadata": {
  "kernelspec": {
   "display_name": "Python [Root]",
   "language": "python",
   "name": "Python [Root]"
  },
  "language_info": {
   "codemirror_mode": {
    "name": "ipython",
    "version": 2
   },
   "file_extension": ".py",
   "mimetype": "text/x-python",
   "name": "python",
   "nbconvert_exporter": "python",
   "pygments_lexer": "ipython2",
   "version": "2.7.12"
  }
 },
 "nbformat": 4,
 "nbformat_minor": 0
}
